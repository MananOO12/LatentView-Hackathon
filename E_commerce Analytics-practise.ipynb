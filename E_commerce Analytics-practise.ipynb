{
 "cells": [
  {
   "cell_type": "markdown",
   "id": "liquid-adaptation",
   "metadata": {},
   "source": [
    "## 1. Importing  Necessary Libraries"
   ]
  },
  {
   "cell_type": "code",
   "execution_count": 1,
   "id": "independent-wheel",
   "metadata": {},
   "outputs": [],
   "source": [
    "# import all libraries and dependencies for dataframe\n",
    "import pandas as pd\n",
    "import numpy as np\n",
    "\n",
    "import warnings\n",
    "warnings.filterwarnings(\"ignore\")\n",
    "\n",
    "# import all libraries and dependencies for data visualization\n",
    "import matplotlib.pyplot as plt\n",
    "import seaborn as sns\n",
    "\n",
    "# import plotly.express as px\n",
    "# import plotly.graph_objs as go\n",
    "# import plotly.figure_factory as ff\n",
    "\n",
    "# from plotly.subplots import make_subplots\n",
    "\n",
    "# from plotly.offline import download_plotlyjs, init_notebook_mode, plot, iplot\n",
    "\n",
    "import datetime\n",
    "\n",
    "pd.set_option('display.max_columns', None)\n",
    "pd.set_option('display.max_rows', 50) \n",
    "pd.set_option('display.max_colwidth', None) \n",
    "\n",
    "# default figure size\n",
    "plt.rcParams[\"figure.figsize\"] = (15, 10)\n",
    "\n",
    "\n",
    "from scipy.stats import shapiro\n",
    "\n",
    "from sklearn.preprocessing import LabelEncoder\n",
    "from sklearn.preprocessing import MinMaxScaler\n",
    "\n",
    "\n",
    "from sklearn.model_selection import train_test_split"
   ]
  },
  {
   "cell_type": "markdown",
   "id": "cardiac-machinery",
   "metadata": {},
   "source": [
    "## 2. Reading & Understanding the Data"
   ]
  },
  {
   "cell_type": "code",
   "execution_count": 2,
   "id": "computational-settle",
   "metadata": {},
   "outputs": [
    {
     "data": {
      "text/html": [
       "<div>\n",
       "<style scoped>\n",
       "    .dataframe tbody tr th:only-of-type {\n",
       "        vertical-align: middle;\n",
       "    }\n",
       "\n",
       "    .dataframe tbody tr th {\n",
       "        vertical-align: top;\n",
       "    }\n",
       "\n",
       "    .dataframe thead th {\n",
       "        text-align: right;\n",
       "    }\n",
       "</style>\n",
       "<table border=\"1\" class=\"dataframe\">\n",
       "  <thead>\n",
       "    <tr style=\"text-align: right;\">\n",
       "      <th></th>\n",
       "      <th>0</th>\n",
       "      <th>1</th>\n",
       "      <th>2</th>\n",
       "      <th>3</th>\n",
       "      <th>4</th>\n",
       "    </tr>\n",
       "  </thead>\n",
       "  <tbody>\n",
       "    <tr>\n",
       "      <th>RETAIL_YEAR</th>\n",
       "      <td>2022</td>\n",
       "      <td>2022</td>\n",
       "      <td>2022</td>\n",
       "      <td>2022</td>\n",
       "      <td>2022</td>\n",
       "    </tr>\n",
       "    <tr>\n",
       "      <th>RETAIL_WEEK</th>\n",
       "      <td>18</td>\n",
       "      <td>18</td>\n",
       "      <td>18</td>\n",
       "      <td>18</td>\n",
       "      <td>18</td>\n",
       "    </tr>\n",
       "    <tr>\n",
       "      <th>CAL_YR</th>\n",
       "      <td>2022</td>\n",
       "      <td>2022</td>\n",
       "      <td>2022</td>\n",
       "      <td>2022</td>\n",
       "      <td>2022</td>\n",
       "    </tr>\n",
       "    <tr>\n",
       "      <th>CAL_WK</th>\n",
       "      <td>18</td>\n",
       "      <td>18</td>\n",
       "      <td>18</td>\n",
       "      <td>18</td>\n",
       "      <td>18</td>\n",
       "    </tr>\n",
       "    <tr>\n",
       "      <th>BYR_CNTRY_DESC</th>\n",
       "      <td>United States</td>\n",
       "      <td>United States</td>\n",
       "      <td>United States</td>\n",
       "      <td>United States</td>\n",
       "      <td>United States</td>\n",
       "    </tr>\n",
       "    <tr>\n",
       "      <th>ITEM_ID</th>\n",
       "      <td>897015</td>\n",
       "      <td>377971</td>\n",
       "      <td>214514</td>\n",
       "      <td>164151</td>\n",
       "      <td>435930</td>\n",
       "    </tr>\n",
       "    <tr>\n",
       "      <th>TRANSACTION_ID</th>\n",
       "      <td>559742871</td>\n",
       "      <td>19861469</td>\n",
       "      <td>444472702</td>\n",
       "      <td>160368271</td>\n",
       "      <td>278552060</td>\n",
       "    </tr>\n",
       "    <tr>\n",
       "      <th>AUCT_END_DT</th>\n",
       "      <td>14-07-2022</td>\n",
       "      <td>06-07-2022</td>\n",
       "      <td>23-07-2022</td>\n",
       "      <td>28-07-2022</td>\n",
       "      <td>28-07-2022</td>\n",
       "    </tr>\n",
       "    <tr>\n",
       "      <th>SLR_CNTRY_ID</th>\n",
       "      <td>1</td>\n",
       "      <td>1</td>\n",
       "      <td>1</td>\n",
       "      <td>1</td>\n",
       "      <td>1</td>\n",
       "    </tr>\n",
       "    <tr>\n",
       "      <th>BYR_CNTRY_ID</th>\n",
       "      <td>1</td>\n",
       "      <td>1</td>\n",
       "      <td>1</td>\n",
       "      <td>1</td>\n",
       "      <td>1</td>\n",
       "    </tr>\n",
       "    <tr>\n",
       "      <th>BUYER_ID</th>\n",
       "      <td>19029</td>\n",
       "      <td>19029</td>\n",
       "      <td>19029</td>\n",
       "      <td>19029</td>\n",
       "      <td>19029</td>\n",
       "    </tr>\n",
       "    <tr>\n",
       "      <th>LEAF_CATEG_ID</th>\n",
       "      <td>261186</td>\n",
       "      <td>261186</td>\n",
       "      <td>261186</td>\n",
       "      <td>261186</td>\n",
       "      <td>261186</td>\n",
       "    </tr>\n",
       "    <tr>\n",
       "      <th>CREATED_DT</th>\n",
       "      <td>05-05-2022</td>\n",
       "      <td>05-05-2022</td>\n",
       "      <td>05-05-2022</td>\n",
       "      <td>05-05-2022</td>\n",
       "      <td>05-05-2022</td>\n",
       "    </tr>\n",
       "    <tr>\n",
       "      <th>BSNS_VRTCL_NAME</th>\n",
       "      <td>Media</td>\n",
       "      <td>Media</td>\n",
       "      <td>Media</td>\n",
       "      <td>Media</td>\n",
       "      <td>Media</td>\n",
       "    </tr>\n",
       "    <tr>\n",
       "      <th>META_CATEG_NAME</th>\n",
       "      <td>Books &amp; Magazines</td>\n",
       "      <td>Books &amp; Magazines</td>\n",
       "      <td>Books &amp; Magazines</td>\n",
       "      <td>Books &amp; Magazines</td>\n",
       "      <td>Books &amp; Magazines</td>\n",
       "    </tr>\n",
       "    <tr>\n",
       "      <th>USER_CRE_DATE</th>\n",
       "      <td>05-06-1997 04:31</td>\n",
       "      <td>05-06-1997 04:31</td>\n",
       "      <td>05-06-1997 04:31</td>\n",
       "      <td>05-06-1997 04:31</td>\n",
       "      <td>05-06-1997 04:31</td>\n",
       "    </tr>\n",
       "    <tr>\n",
       "      <th>CATEG_LVL2_NAME</th>\n",
       "      <td>Books</td>\n",
       "      <td>Books</td>\n",
       "      <td>Books</td>\n",
       "      <td>Books</td>\n",
       "      <td>Books</td>\n",
       "    </tr>\n",
       "    <tr>\n",
       "      <th>CATEG_LVL3_NAME</th>\n",
       "      <td>Books</td>\n",
       "      <td>Books</td>\n",
       "      <td>Books</td>\n",
       "      <td>Books</td>\n",
       "      <td>Books</td>\n",
       "    </tr>\n",
       "    <tr>\n",
       "      <th>CATEG_LVL4_NAME</th>\n",
       "      <td>Books</td>\n",
       "      <td>Books</td>\n",
       "      <td>Books</td>\n",
       "      <td>Books</td>\n",
       "      <td>Books</td>\n",
       "    </tr>\n",
       "    <tr>\n",
       "      <th>PL_FLAG</th>\n",
       "      <td>1</td>\n",
       "      <td>1</td>\n",
       "      <td>1</td>\n",
       "      <td>1</td>\n",
       "      <td>1</td>\n",
       "    </tr>\n",
       "    <tr>\n",
       "      <th>CHECKOUT_STATUS</th>\n",
       "      <td>2</td>\n",
       "      <td>2</td>\n",
       "      <td>2</td>\n",
       "      <td>2</td>\n",
       "      <td>2</td>\n",
       "    </tr>\n",
       "    <tr>\n",
       "      <th>PAYMENT_METHOD</th>\n",
       "      <td>34</td>\n",
       "      <td>34</td>\n",
       "      <td>34</td>\n",
       "      <td>34</td>\n",
       "      <td>34</td>\n",
       "    </tr>\n",
       "    <tr>\n",
       "      <th>BIN_YN_ID</th>\n",
       "      <td>1</td>\n",
       "      <td>1</td>\n",
       "      <td>1</td>\n",
       "      <td>1</td>\n",
       "      <td>1</td>\n",
       "    </tr>\n",
       "    <tr>\n",
       "      <th>SALE_TYPE</th>\n",
       "      <td>9</td>\n",
       "      <td>9</td>\n",
       "      <td>9</td>\n",
       "      <td>9</td>\n",
       "      <td>9</td>\n",
       "    </tr>\n",
       "    <tr>\n",
       "      <th>START_PRICE_USD</th>\n",
       "      <td>3.87</td>\n",
       "      <td>3.98</td>\n",
       "      <td>4.08</td>\n",
       "      <td>3.57</td>\n",
       "      <td>4.08</td>\n",
       "    </tr>\n",
       "    <tr>\n",
       "      <th>CURNT_PRICE_USD</th>\n",
       "      <td>3.87</td>\n",
       "      <td>3.98</td>\n",
       "      <td>4.08</td>\n",
       "      <td>3.57</td>\n",
       "      <td>4.08</td>\n",
       "    </tr>\n",
       "    <tr>\n",
       "      <th>QUANTITY</th>\n",
       "      <td>1</td>\n",
       "      <td>1</td>\n",
       "      <td>1</td>\n",
       "      <td>1</td>\n",
       "      <td>1</td>\n",
       "    </tr>\n",
       "    <tr>\n",
       "      <th>GMB</th>\n",
       "      <td>3.87</td>\n",
       "      <td>3.98</td>\n",
       "      <td>3.22</td>\n",
       "      <td>2.82</td>\n",
       "      <td>3.22</td>\n",
       "    </tr>\n",
       "    <tr>\n",
       "      <th>FM_seg</th>\n",
       "      <td>Infrequent High Spenders</td>\n",
       "      <td>Infrequent High Spenders</td>\n",
       "      <td>Infrequent High Spenders</td>\n",
       "      <td>Infrequent High Spenders</td>\n",
       "      <td>Infrequent High Spenders</td>\n",
       "    </tr>\n",
       "  </tbody>\n",
       "</table>\n",
       "</div>"
      ],
      "text/plain": [
       "                                        0                         1  \\\n",
       "RETAIL_YEAR                          2022                      2022   \n",
       "RETAIL_WEEK                            18                        18   \n",
       "CAL_YR                               2022                      2022   \n",
       "CAL_WK                                 18                        18   \n",
       "BYR_CNTRY_DESC              United States             United States   \n",
       "ITEM_ID                            897015                    377971   \n",
       "TRANSACTION_ID                  559742871                  19861469   \n",
       "AUCT_END_DT                    14-07-2022                06-07-2022   \n",
       "SLR_CNTRY_ID                            1                         1   \n",
       "BYR_CNTRY_ID                            1                         1   \n",
       "BUYER_ID                            19029                     19029   \n",
       "LEAF_CATEG_ID                      261186                    261186   \n",
       "CREATED_DT                     05-05-2022                05-05-2022   \n",
       "BSNS_VRTCL_NAME                     Media                     Media   \n",
       "META_CATEG_NAME         Books & Magazines         Books & Magazines   \n",
       "USER_CRE_DATE            05-06-1997 04:31          05-06-1997 04:31   \n",
       "CATEG_LVL2_NAME                     Books                     Books   \n",
       "CATEG_LVL3_NAME                     Books                     Books   \n",
       "CATEG_LVL4_NAME                     Books                     Books   \n",
       "PL_FLAG                                 1                         1   \n",
       "CHECKOUT_STATUS                         2                         2   \n",
       "PAYMENT_METHOD                         34                        34   \n",
       "BIN_YN_ID                               1                         1   \n",
       "SALE_TYPE                               9                         9   \n",
       "START_PRICE_USD                      3.87                      3.98   \n",
       "CURNT_PRICE_USD                      3.87                      3.98   \n",
       "QUANTITY                                1                         1   \n",
       "GMB                                  3.87                      3.98   \n",
       "FM_seg           Infrequent High Spenders  Infrequent High Spenders   \n",
       "\n",
       "                                        2                         3  \\\n",
       "RETAIL_YEAR                          2022                      2022   \n",
       "RETAIL_WEEK                            18                        18   \n",
       "CAL_YR                               2022                      2022   \n",
       "CAL_WK                                 18                        18   \n",
       "BYR_CNTRY_DESC              United States             United States   \n",
       "ITEM_ID                            214514                    164151   \n",
       "TRANSACTION_ID                  444472702                 160368271   \n",
       "AUCT_END_DT                    23-07-2022                28-07-2022   \n",
       "SLR_CNTRY_ID                            1                         1   \n",
       "BYR_CNTRY_ID                            1                         1   \n",
       "BUYER_ID                            19029                     19029   \n",
       "LEAF_CATEG_ID                      261186                    261186   \n",
       "CREATED_DT                     05-05-2022                05-05-2022   \n",
       "BSNS_VRTCL_NAME                     Media                     Media   \n",
       "META_CATEG_NAME         Books & Magazines         Books & Magazines   \n",
       "USER_CRE_DATE            05-06-1997 04:31          05-06-1997 04:31   \n",
       "CATEG_LVL2_NAME                     Books                     Books   \n",
       "CATEG_LVL3_NAME                     Books                     Books   \n",
       "CATEG_LVL4_NAME                     Books                     Books   \n",
       "PL_FLAG                                 1                         1   \n",
       "CHECKOUT_STATUS                         2                         2   \n",
       "PAYMENT_METHOD                         34                        34   \n",
       "BIN_YN_ID                               1                         1   \n",
       "SALE_TYPE                               9                         9   \n",
       "START_PRICE_USD                      4.08                      3.57   \n",
       "CURNT_PRICE_USD                      4.08                      3.57   \n",
       "QUANTITY                                1                         1   \n",
       "GMB                                  3.22                      2.82   \n",
       "FM_seg           Infrequent High Spenders  Infrequent High Spenders   \n",
       "\n",
       "                                        4  \n",
       "RETAIL_YEAR                          2022  \n",
       "RETAIL_WEEK                            18  \n",
       "CAL_YR                               2022  \n",
       "CAL_WK                                 18  \n",
       "BYR_CNTRY_DESC              United States  \n",
       "ITEM_ID                            435930  \n",
       "TRANSACTION_ID                  278552060  \n",
       "AUCT_END_DT                    28-07-2022  \n",
       "SLR_CNTRY_ID                            1  \n",
       "BYR_CNTRY_ID                            1  \n",
       "BUYER_ID                            19029  \n",
       "LEAF_CATEG_ID                      261186  \n",
       "CREATED_DT                     05-05-2022  \n",
       "BSNS_VRTCL_NAME                     Media  \n",
       "META_CATEG_NAME         Books & Magazines  \n",
       "USER_CRE_DATE            05-06-1997 04:31  \n",
       "CATEG_LVL2_NAME                     Books  \n",
       "CATEG_LVL3_NAME                     Books  \n",
       "CATEG_LVL4_NAME                     Books  \n",
       "PL_FLAG                                 1  \n",
       "CHECKOUT_STATUS                         2  \n",
       "PAYMENT_METHOD                         34  \n",
       "BIN_YN_ID                               1  \n",
       "SALE_TYPE                               9  \n",
       "START_PRICE_USD                      4.08  \n",
       "CURNT_PRICE_USD                      4.08  \n",
       "QUANTITY                                1  \n",
       "GMB                                  3.22  \n",
       "FM_seg           Infrequent High Spenders  "
      ]
     },
     "execution_count": 2,
     "metadata": {},
     "output_type": "execute_result"
    }
   ],
   "source": [
    "url  = \"https://raw.githubusercontent.com/Latentview/Hackathon/main/e-commerce Raw Data V1.csv\"\n",
    "url = url.replace(\" \", \"%20\") # Replacing space in url with %20 as it corresponds to whitespace in URL-encoding\n",
    "\n",
    "df = pd.read_csv(url)\n",
    "df.head().T"
   ]
  },
  {
   "cell_type": "code",
   "execution_count": 3,
   "id": "excess-middle",
   "metadata": {},
   "outputs": [
    {
     "data": {
      "text/plain": [
       "Index(['RETAIL_YEAR', 'RETAIL_WEEK', 'CAL_YR', 'CAL_WK', 'BYR_CNTRY_DESC',\n",
       "       'ITEM_ID', 'TRANSACTION_ID', 'AUCT_END_DT', 'SLR_CNTRY_ID',\n",
       "       'BYR_CNTRY_ID', 'BUYER_ID', 'LEAF_CATEG_ID', 'CREATED_DT',\n",
       "       'BSNS_VRTCL_NAME', 'META_CATEG_NAME', 'USER_CRE_DATE',\n",
       "       'CATEG_LVL2_NAME', 'CATEG_LVL3_NAME', 'CATEG_LVL4_NAME', 'PL_FLAG',\n",
       "       'CHECKOUT_STATUS', 'PAYMENT_METHOD', 'BIN_YN_ID', 'SALE_TYPE',\n",
       "       'START_PRICE_USD', 'CURNT_PRICE_USD', 'QUANTITY', 'GMB', 'FM_seg'],\n",
       "      dtype='object')"
      ]
     },
     "execution_count": 3,
     "metadata": {},
     "output_type": "execute_result"
    }
   ],
   "source": [
    "df.columns"
   ]
  },
  {
   "cell_type": "code",
   "execution_count": 4,
   "id": "boring-seattle",
   "metadata": {},
   "outputs": [
    {
     "name": "stdout",
     "output_type": "stream",
     "text": [
      "<class 'pandas.core.frame.DataFrame'>\n",
      "RangeIndex: 10000 entries, 0 to 9999\n",
      "Data columns (total 29 columns):\n",
      " #   Column           Non-Null Count  Dtype  \n",
      "---  ------           --------------  -----  \n",
      " 0   RETAIL_YEAR      10000 non-null  int64  \n",
      " 1   RETAIL_WEEK      10000 non-null  int64  \n",
      " 2   CAL_YR           10000 non-null  int64  \n",
      " 3   CAL_WK           10000 non-null  int64  \n",
      " 4   BYR_CNTRY_DESC   10000 non-null  object \n",
      " 5   ITEM_ID          10000 non-null  int64  \n",
      " 6   TRANSACTION_ID   10000 non-null  int64  \n",
      " 7   AUCT_END_DT      10000 non-null  object \n",
      " 8   SLR_CNTRY_ID     10000 non-null  int64  \n",
      " 9   BYR_CNTRY_ID     10000 non-null  int64  \n",
      " 10  BUYER_ID         10000 non-null  int64  \n",
      " 11  LEAF_CATEG_ID    10000 non-null  int64  \n",
      " 12  CREATED_DT       10000 non-null  object \n",
      " 13  BSNS_VRTCL_NAME  10000 non-null  object \n",
      " 14  META_CATEG_NAME  10000 non-null  object \n",
      " 15  USER_CRE_DATE    10000 non-null  object \n",
      " 16  CATEG_LVL2_NAME  10000 non-null  object \n",
      " 17  CATEG_LVL3_NAME  10000 non-null  object \n",
      " 18  CATEG_LVL4_NAME  10000 non-null  object \n",
      " 19  PL_FLAG          10000 non-null  int64  \n",
      " 20  CHECKOUT_STATUS  10000 non-null  int64  \n",
      " 21  PAYMENT_METHOD   10000 non-null  int64  \n",
      " 22  BIN_YN_ID        10000 non-null  int64  \n",
      " 23  SALE_TYPE        10000 non-null  int64  \n",
      " 24  START_PRICE_USD  10000 non-null  float64\n",
      " 25  CURNT_PRICE_USD  10000 non-null  float64\n",
      " 26  QUANTITY         10000 non-null  int64  \n",
      " 27  GMB              10000 non-null  float64\n",
      " 28  FM_seg           10000 non-null  object \n",
      "dtypes: float64(3), int64(16), object(10)\n",
      "memory usage: 2.2+ MB\n"
     ]
    }
   ],
   "source": [
    "df.info()"
   ]
  },
  {
   "cell_type": "markdown",
   "id": "unique-greensboro",
   "metadata": {},
   "source": [
    "### 2.1 Checking for null values"
   ]
  },
  {
   "cell_type": "code",
   "execution_count": 5,
   "id": "detected-forty",
   "metadata": {},
   "outputs": [
    {
     "data": {
      "text/plain": [
       "RETAIL_YEAR        0.0\n",
       "USER_CRE_DATE      0.0\n",
       "GMB                0.0\n",
       "QUANTITY           0.0\n",
       "CURNT_PRICE_USD    0.0\n",
       "dtype: float64"
      ]
     },
     "execution_count": 5,
     "metadata": {},
     "output_type": "execute_result"
    }
   ],
   "source": [
    "# Checking for missing values in the dataset\n",
    "df_null = df.isna().mean().round(4) * 100\n",
    "\n",
    "df_null.sort_values(ascending=False).head()"
   ]
  },
  {
   "cell_type": "code",
   "execution_count": 6,
   "id": "moved-hotel",
   "metadata": {},
   "outputs": [
    {
     "data": {
      "text/html": [
       "<div>\n",
       "<style scoped>\n",
       "    .dataframe tbody tr th:only-of-type {\n",
       "        vertical-align: middle;\n",
       "    }\n",
       "\n",
       "    .dataframe tbody tr th {\n",
       "        vertical-align: top;\n",
       "    }\n",
       "\n",
       "    .dataframe thead th {\n",
       "        text-align: right;\n",
       "    }\n",
       "</style>\n",
       "<table border=\"1\" class=\"dataframe\">\n",
       "  <thead>\n",
       "    <tr style=\"text-align: right;\">\n",
       "      <th></th>\n",
       "      <th>RETAIL_YEAR</th>\n",
       "      <th>RETAIL_WEEK</th>\n",
       "      <th>CAL_YR</th>\n",
       "      <th>CAL_WK</th>\n",
       "      <th>ITEM_ID</th>\n",
       "      <th>TRANSACTION_ID</th>\n",
       "      <th>SLR_CNTRY_ID</th>\n",
       "      <th>BYR_CNTRY_ID</th>\n",
       "      <th>BUYER_ID</th>\n",
       "      <th>LEAF_CATEG_ID</th>\n",
       "      <th>PL_FLAG</th>\n",
       "      <th>CHECKOUT_STATUS</th>\n",
       "      <th>PAYMENT_METHOD</th>\n",
       "      <th>BIN_YN_ID</th>\n",
       "      <th>SALE_TYPE</th>\n",
       "      <th>START_PRICE_USD</th>\n",
       "      <th>CURNT_PRICE_USD</th>\n",
       "      <th>QUANTITY</th>\n",
       "      <th>GMB</th>\n",
       "    </tr>\n",
       "  </thead>\n",
       "  <tbody>\n",
       "    <tr>\n",
       "      <th>count</th>\n",
       "      <td>10000.0</td>\n",
       "      <td>10000.000000</td>\n",
       "      <td>10000.0</td>\n",
       "      <td>10000.000000</td>\n",
       "      <td>10000.000000</td>\n",
       "      <td>1.000000e+04</td>\n",
       "      <td>10000.000000</td>\n",
       "      <td>10000.000000</td>\n",
       "      <td>1.000000e+04</td>\n",
       "      <td>10000.000000</td>\n",
       "      <td>10000.000000</td>\n",
       "      <td>10000.000000</td>\n",
       "      <td>10000.000000</td>\n",
       "      <td>10000.000000</td>\n",
       "      <td>10000.000000</td>\n",
       "      <td>10000.000000</td>\n",
       "      <td>10000.000000</td>\n",
       "      <td>10000.000000</td>\n",
       "      <td>10000.000000</td>\n",
       "    </tr>\n",
       "    <tr>\n",
       "      <th>mean</th>\n",
       "      <td>2022.0</td>\n",
       "      <td>19.737000</td>\n",
       "      <td>2022.0</td>\n",
       "      <td>19.551500</td>\n",
       "      <td>513116.540200</td>\n",
       "      <td>5.017883e+08</td>\n",
       "      <td>10.990900</td>\n",
       "      <td>4.093400</td>\n",
       "      <td>2.733794e+08</td>\n",
       "      <td>113380.536100</td>\n",
       "      <td>0.451200</td>\n",
       "      <td>2.016500</td>\n",
       "      <td>33.776300</td>\n",
       "      <td>0.865700</td>\n",
       "      <td>7.805600</td>\n",
       "      <td>50.337242</td>\n",
       "      <td>59.491510</td>\n",
       "      <td>1.149300</td>\n",
       "      <td>60.402843</td>\n",
       "    </tr>\n",
       "    <tr>\n",
       "      <th>std</th>\n",
       "      <td>0.0</td>\n",
       "      <td>1.316968</td>\n",
       "      <td>0.0</td>\n",
       "      <td>1.337508</td>\n",
       "      <td>282693.927003</td>\n",
       "      <td>2.845823e+08</td>\n",
       "      <td>29.632125</td>\n",
       "      <td>19.346739</td>\n",
       "      <td>4.696493e+08</td>\n",
       "      <td>93367.435872</td>\n",
       "      <td>0.497638</td>\n",
       "      <td>0.153069</td>\n",
       "      <td>2.745471</td>\n",
       "      <td>0.340991</td>\n",
       "      <td>2.790804</td>\n",
       "      <td>215.218564</td>\n",
       "      <td>704.684025</td>\n",
       "      <td>1.324607</td>\n",
       "      <td>702.174854</td>\n",
       "    </tr>\n",
       "    <tr>\n",
       "      <th>min</th>\n",
       "      <td>2022.0</td>\n",
       "      <td>18.000000</td>\n",
       "      <td>2022.0</td>\n",
       "      <td>17.000000</td>\n",
       "      <td>20002.000000</td>\n",
       "      <td>1.017533e+07</td>\n",
       "      <td>1.000000</td>\n",
       "      <td>1.000000</td>\n",
       "      <td>1.902900e+04</td>\n",
       "      <td>28.000000</td>\n",
       "      <td>0.000000</td>\n",
       "      <td>0.000000</td>\n",
       "      <td>0.000000</td>\n",
       "      <td>0.000000</td>\n",
       "      <td>1.000000</td>\n",
       "      <td>0.010000</td>\n",
       "      <td>0.000000</td>\n",
       "      <td>1.000000</td>\n",
       "      <td>0.010000</td>\n",
       "    </tr>\n",
       "    <tr>\n",
       "      <th>25%</th>\n",
       "      <td>2022.0</td>\n",
       "      <td>19.000000</td>\n",
       "      <td>2022.0</td>\n",
       "      <td>18.000000</td>\n",
       "      <td>269025.250000</td>\n",
       "      <td>2.547082e+08</td>\n",
       "      <td>1.000000</td>\n",
       "      <td>1.000000</td>\n",
       "      <td>3.184499e+07</td>\n",
       "      <td>33164.000000</td>\n",
       "      <td>0.000000</td>\n",
       "      <td>2.000000</td>\n",
       "      <td>34.000000</td>\n",
       "      <td>1.000000</td>\n",
       "      <td>9.000000</td>\n",
       "      <td>7.197500</td>\n",
       "      <td>7.990000</td>\n",
       "      <td>1.000000</td>\n",
       "      <td>8.615000</td>\n",
       "    </tr>\n",
       "    <tr>\n",
       "      <th>50%</th>\n",
       "      <td>2022.0</td>\n",
       "      <td>20.000000</td>\n",
       "      <td>2022.0</td>\n",
       "      <td>20.000000</td>\n",
       "      <td>519111.000000</td>\n",
       "      <td>5.024180e+08</td>\n",
       "      <td>1.000000</td>\n",
       "      <td>1.000000</td>\n",
       "      <td>1.042111e+08</td>\n",
       "      <td>71278.000000</td>\n",
       "      <td>0.000000</td>\n",
       "      <td>2.000000</td>\n",
       "      <td>34.000000</td>\n",
       "      <td>1.000000</td>\n",
       "      <td>9.000000</td>\n",
       "      <td>15.990000</td>\n",
       "      <td>17.285000</td>\n",
       "      <td>1.000000</td>\n",
       "      <td>17.990000</td>\n",
       "    </tr>\n",
       "    <tr>\n",
       "      <th>75%</th>\n",
       "      <td>2022.0</td>\n",
       "      <td>21.000000</td>\n",
       "      <td>2022.0</td>\n",
       "      <td>21.000000</td>\n",
       "      <td>756195.250000</td>\n",
       "      <td>7.474370e+08</td>\n",
       "      <td>1.000000</td>\n",
       "      <td>1.000000</td>\n",
       "      <td>2.879145e+08</td>\n",
       "      <td>181308.500000</td>\n",
       "      <td>1.000000</td>\n",
       "      <td>2.000000</td>\n",
       "      <td>34.000000</td>\n",
       "      <td>1.000000</td>\n",
       "      <td>9.000000</td>\n",
       "      <td>36.990000</td>\n",
       "      <td>39.990000</td>\n",
       "      <td>1.000000</td>\n",
       "      <td>40.592500</td>\n",
       "    </tr>\n",
       "    <tr>\n",
       "      <th>max</th>\n",
       "      <td>2022.0</td>\n",
       "      <td>22.000000</td>\n",
       "      <td>2022.0</td>\n",
       "      <td>22.000000</td>\n",
       "      <td>999746.000000</td>\n",
       "      <td>9.998751e+08</td>\n",
       "      <td>229.000000</td>\n",
       "      <td>225.000000</td>\n",
       "      <td>2.416285e+09</td>\n",
       "      <td>263012.000000</td>\n",
       "      <td>1.000000</td>\n",
       "      <td>3.000000</td>\n",
       "      <td>34.000000</td>\n",
       "      <td>1.000000</td>\n",
       "      <td>9.000000</td>\n",
       "      <td>11195.000000</td>\n",
       "      <td>66600.000000</td>\n",
       "      <td>70.000000</td>\n",
       "      <td>66600.000000</td>\n",
       "    </tr>\n",
       "  </tbody>\n",
       "</table>\n",
       "</div>"
      ],
      "text/plain": [
       "       RETAIL_YEAR   RETAIL_WEEK   CAL_YR        CAL_WK        ITEM_ID  \\\n",
       "count      10000.0  10000.000000  10000.0  10000.000000   10000.000000   \n",
       "mean        2022.0     19.737000   2022.0     19.551500  513116.540200   \n",
       "std            0.0      1.316968      0.0      1.337508  282693.927003   \n",
       "min         2022.0     18.000000   2022.0     17.000000   20002.000000   \n",
       "25%         2022.0     19.000000   2022.0     18.000000  269025.250000   \n",
       "50%         2022.0     20.000000   2022.0     20.000000  519111.000000   \n",
       "75%         2022.0     21.000000   2022.0     21.000000  756195.250000   \n",
       "max         2022.0     22.000000   2022.0     22.000000  999746.000000   \n",
       "\n",
       "       TRANSACTION_ID  SLR_CNTRY_ID  BYR_CNTRY_ID      BUYER_ID  \\\n",
       "count    1.000000e+04  10000.000000  10000.000000  1.000000e+04   \n",
       "mean     5.017883e+08     10.990900      4.093400  2.733794e+08   \n",
       "std      2.845823e+08     29.632125     19.346739  4.696493e+08   \n",
       "min      1.017533e+07      1.000000      1.000000  1.902900e+04   \n",
       "25%      2.547082e+08      1.000000      1.000000  3.184499e+07   \n",
       "50%      5.024180e+08      1.000000      1.000000  1.042111e+08   \n",
       "75%      7.474370e+08      1.000000      1.000000  2.879145e+08   \n",
       "max      9.998751e+08    229.000000    225.000000  2.416285e+09   \n",
       "\n",
       "       LEAF_CATEG_ID       PL_FLAG  CHECKOUT_STATUS  PAYMENT_METHOD  \\\n",
       "count   10000.000000  10000.000000     10000.000000    10000.000000   \n",
       "mean   113380.536100      0.451200         2.016500       33.776300   \n",
       "std     93367.435872      0.497638         0.153069        2.745471   \n",
       "min        28.000000      0.000000         0.000000        0.000000   \n",
       "25%     33164.000000      0.000000         2.000000       34.000000   \n",
       "50%     71278.000000      0.000000         2.000000       34.000000   \n",
       "75%    181308.500000      1.000000         2.000000       34.000000   \n",
       "max    263012.000000      1.000000         3.000000       34.000000   \n",
       "\n",
       "          BIN_YN_ID     SALE_TYPE  START_PRICE_USD  CURNT_PRICE_USD  \\\n",
       "count  10000.000000  10000.000000     10000.000000     10000.000000   \n",
       "mean       0.865700      7.805600        50.337242        59.491510   \n",
       "std        0.340991      2.790804       215.218564       704.684025   \n",
       "min        0.000000      1.000000         0.010000         0.000000   \n",
       "25%        1.000000      9.000000         7.197500         7.990000   \n",
       "50%        1.000000      9.000000        15.990000        17.285000   \n",
       "75%        1.000000      9.000000        36.990000        39.990000   \n",
       "max        1.000000      9.000000     11195.000000     66600.000000   \n",
       "\n",
       "           QUANTITY           GMB  \n",
       "count  10000.000000  10000.000000  \n",
       "mean       1.149300     60.402843  \n",
       "std        1.324607    702.174854  \n",
       "min        1.000000      0.010000  \n",
       "25%        1.000000      8.615000  \n",
       "50%        1.000000     17.990000  \n",
       "75%        1.000000     40.592500  \n",
       "max       70.000000  66600.000000  "
      ]
     },
     "execution_count": 6,
     "metadata": {},
     "output_type": "execute_result"
    }
   ],
   "source": [
    "df.describe() # getting the summary statistics of the dataset"
   ]
  },
  {
   "cell_type": "markdown",
   "id": "cosmetic-living",
   "metadata": {},
   "source": [
    "### 2.2 Checking for duplicate rows"
   ]
  },
  {
   "cell_type": "code",
   "execution_count": 7,
   "id": "sunrise-seattle",
   "metadata": {},
   "outputs": [
    {
     "data": {
      "text/plain": [
       "(0, 29)"
      ]
     },
     "execution_count": 7,
     "metadata": {},
     "output_type": "execute_result"
    }
   ],
   "source": [
    "duplicate_rows = df[df.duplicated()]\n",
    "duplicate_rows.shape"
   ]
  },
  {
   "cell_type": "code",
   "execution_count": 8,
   "id": "informed-princess",
   "metadata": {},
   "outputs": [
    {
     "data": {
      "text/plain": [
       "34    9934\n",
       "0       65\n",
       "7        1\n",
       "Name: PAYMENT_METHOD, dtype: int64"
      ]
     },
     "execution_count": 8,
     "metadata": {},
     "output_type": "execute_result"
    }
   ],
   "source": [
    "df['PAYMENT_METHOD'].value_counts()"
   ]
  },
  {
   "cell_type": "markdown",
   "id": "addressed-refund",
   "metadata": {},
   "source": [
    "## 3. Cleaning the Data"
   ]
  },
  {
   "cell_type": "markdown",
   "id": "friendly-peninsula",
   "metadata": {},
   "source": [
    "### 3.1 Dropping unnecessary column"
   ]
  },
  {
   "cell_type": "code",
   "execution_count": 9,
   "id": "quality-orange",
   "metadata": {},
   "outputs": [],
   "source": [
    "df = df.drop(['PAYMENT_METHOD','TRANSACTION_ID','BIN_YN_ID','PL_FLAG','LEAF_CATEG_ID','ITEM_ID', 'BUYER_ID','BYR_CNTRY_ID'], axis=1)"
   ]
  },
  {
   "cell_type": "code",
   "execution_count": 10,
   "id": "descending-ethnic",
   "metadata": {},
   "outputs": [],
   "source": [
    "df = pd.DataFrame(df)"
   ]
  },
  {
   "cell_type": "code",
   "execution_count": 11,
   "id": "indian-exemption",
   "metadata": {},
   "outputs": [
    {
     "data": {
      "text/plain": [
       "9    8294\n",
       "1    1422\n",
       "7     284\n",
       "Name: SALE_TYPE, dtype: int64"
      ]
     },
     "execution_count": 11,
     "metadata": {},
     "output_type": "execute_result"
    }
   ],
   "source": [
    "df['SALE_TYPE'].value_counts()"
   ]
  },
  {
   "cell_type": "code",
   "execution_count": 12,
   "id": "genetic-eight",
   "metadata": {},
   "outputs": [
    {
     "data": {
      "text/plain": [
       "pandas.core.frame.DataFrame"
      ]
     },
     "execution_count": 12,
     "metadata": {},
     "output_type": "execute_result"
    }
   ],
   "source": [
    "type(df)"
   ]
  },
  {
   "cell_type": "code",
   "execution_count": 13,
   "id": "brilliant-forward",
   "metadata": {},
   "outputs": [],
   "source": [
    "df = df.drop('SALE_TYPE', axis=1)"
   ]
  },
  {
   "cell_type": "code",
   "execution_count": 14,
   "id": "equipped-recommendation",
   "metadata": {},
   "outputs": [
    {
     "name": "stdout",
     "output_type": "stream",
     "text": [
      "<class 'pandas.core.frame.DataFrame'>\n",
      "RangeIndex: 10000 entries, 0 to 9999\n",
      "Data columns (total 20 columns):\n",
      " #   Column           Non-Null Count  Dtype  \n",
      "---  ------           --------------  -----  \n",
      " 0   RETAIL_YEAR      10000 non-null  int64  \n",
      " 1   RETAIL_WEEK      10000 non-null  int64  \n",
      " 2   CAL_YR           10000 non-null  int64  \n",
      " 3   CAL_WK           10000 non-null  int64  \n",
      " 4   BYR_CNTRY_DESC   10000 non-null  object \n",
      " 5   AUCT_END_DT      10000 non-null  object \n",
      " 6   SLR_CNTRY_ID     10000 non-null  int64  \n",
      " 7   CREATED_DT       10000 non-null  object \n",
      " 8   BSNS_VRTCL_NAME  10000 non-null  object \n",
      " 9   META_CATEG_NAME  10000 non-null  object \n",
      " 10  USER_CRE_DATE    10000 non-null  object \n",
      " 11  CATEG_LVL2_NAME  10000 non-null  object \n",
      " 12  CATEG_LVL3_NAME  10000 non-null  object \n",
      " 13  CATEG_LVL4_NAME  10000 non-null  object \n",
      " 14  CHECKOUT_STATUS  10000 non-null  int64  \n",
      " 15  START_PRICE_USD  10000 non-null  float64\n",
      " 16  CURNT_PRICE_USD  10000 non-null  float64\n",
      " 17  QUANTITY         10000 non-null  int64  \n",
      " 18  GMB              10000 non-null  float64\n",
      " 19  FM_seg           10000 non-null  object \n",
      "dtypes: float64(3), int64(7), object(10)\n",
      "memory usage: 1.5+ MB\n"
     ]
    }
   ],
   "source": [
    "df.info()"
   ]
  },
  {
   "cell_type": "code",
   "execution_count": 15,
   "id": "minute-pantyhose",
   "metadata": {},
   "outputs": [],
   "source": [
    "l = df['RETAIL_YEAR']==df['CAL_YR']"
   ]
  },
  {
   "cell_type": "code",
   "execution_count": 16,
   "id": "chicken-haven",
   "metadata": {},
   "outputs": [
    {
     "data": {
      "text/plain": [
       "array([ True])"
      ]
     },
     "execution_count": 16,
     "metadata": {},
     "output_type": "execute_result"
    }
   ],
   "source": [
    "l.unique()"
   ]
  },
  {
   "cell_type": "markdown",
   "id": "floral-accounting",
   "metadata": {},
   "source": [
    "We can see that **CAL_YR** and **RETAIL_YEAR** are exactly same"
   ]
  },
  {
   "cell_type": "code",
   "execution_count": 17,
   "id": "chief-kruger",
   "metadata": {},
   "outputs": [],
   "source": [
    "df= df.drop('CAL_YR', axis=1)"
   ]
  },
  {
   "cell_type": "code",
   "execution_count": 18,
   "id": "sustainable-traveler",
   "metadata": {},
   "outputs": [],
   "source": [
    "l2 = df['RETAIL_WEEK']==df['CAL_WK']"
   ]
  },
  {
   "cell_type": "code",
   "execution_count": 19,
   "id": "double-symphony",
   "metadata": {},
   "outputs": [
    {
     "data": {
      "text/plain": [
       "array([ True, False])"
      ]
     },
     "execution_count": 19,
     "metadata": {},
     "output_type": "execute_result"
    }
   ],
   "source": [
    "l2.unique()"
   ]
  },
  {
   "cell_type": "code",
   "execution_count": null,
   "id": "sharing-subject",
   "metadata": {},
   "outputs": [],
   "source": []
  },
  {
   "cell_type": "markdown",
   "id": "refined-water",
   "metadata": {},
   "source": [
    "We can see that **CAL_YR** and **RETAIL_YEAR** are exactly same"
   ]
  },
  {
   "cell_type": "code",
   "execution_count": 20,
   "id": "fixed-manual",
   "metadata": {},
   "outputs": [],
   "source": [
    "l3  = df['CATEG_LVL3_NAME'] == df['CATEG_LVL4_NAME']"
   ]
  },
  {
   "cell_type": "code",
   "execution_count": 21,
   "id": "affecting-victim",
   "metadata": {},
   "outputs": [
    {
     "data": {
      "text/plain": [
       "array([ True, False])"
      ]
     },
     "execution_count": 21,
     "metadata": {},
     "output_type": "execute_result"
    }
   ],
   "source": [
    "l3.unique()"
   ]
  },
  {
   "cell_type": "code",
   "execution_count": 22,
   "id": "incorporate-roads",
   "metadata": {},
   "outputs": [
    {
     "data": {
      "text/plain": [
       "2    9787\n",
       "3     193\n",
       "1      12\n",
       "0       8\n",
       "Name: CHECKOUT_STATUS, dtype: int64"
      ]
     },
     "execution_count": 22,
     "metadata": {},
     "output_type": "execute_result"
    }
   ],
   "source": [
    "df.CHECKOUT_STATUS.value_counts()"
   ]
  },
  {
   "cell_type": "markdown",
   "id": "tribal-pavilion",
   "metadata": {},
   "source": [
    "Separating numeircal and categorical column name"
   ]
  },
  {
   "cell_type": "code",
   "execution_count": 23,
   "id": "greatest-brick",
   "metadata": {},
   "outputs": [
    {
     "data": {
      "text/plain": [
       "Index(['RETAIL_YEAR', 'RETAIL_WEEK', 'CAL_WK', 'SLR_CNTRY_ID',\n",
       "       'CHECKOUT_STATUS', 'START_PRICE_USD', 'CURNT_PRICE_USD', 'QUANTITY',\n",
       "       'GMB'],\n",
       "      dtype='object')"
      ]
     },
     "execution_count": 23,
     "metadata": {},
     "output_type": "execute_result"
    }
   ],
   "source": [
    "num_col = df.select_dtypes(exclude='object').columns\n",
    "num_col"
   ]
  },
  {
   "cell_type": "code",
   "execution_count": 24,
   "id": "honey-syria",
   "metadata": {},
   "outputs": [
    {
     "data": {
      "text/plain": [
       "Index(['BYR_CNTRY_DESC', 'AUCT_END_DT', 'CREATED_DT', 'BSNS_VRTCL_NAME',\n",
       "       'META_CATEG_NAME', 'USER_CRE_DATE', 'CATEG_LVL2_NAME',\n",
       "       'CATEG_LVL3_NAME', 'CATEG_LVL4_NAME', 'FM_seg'],\n",
       "      dtype='object')"
      ]
     },
     "execution_count": 24,
     "metadata": {},
     "output_type": "execute_result"
    }
   ],
   "source": [
    "cat_col = df.select_dtypes(include='object').columns\n",
    "cat_col"
   ]
  },
  {
   "cell_type": "code",
   "execution_count": 25,
   "id": "charming-measurement",
   "metadata": {},
   "outputs": [
    {
     "data": {
      "text/plain": [
       "(10000, 19)"
      ]
     },
     "execution_count": 25,
     "metadata": {},
     "output_type": "execute_result"
    }
   ],
   "source": [
    "df.shape"
   ]
  },
  {
   "cell_type": "markdown",
   "id": "similar-correlation",
   "metadata": {},
   "source": [
    "## 4. Exploratory Data Analysis"
   ]
  },
  {
   "cell_type": "markdown",
   "id": "included-meaning",
   "metadata": {},
   "source": [
    "### 4.1 Distribution Checking"
   ]
  },
  {
   "cell_type": "code",
   "execution_count": 26,
   "id": "fleet-china",
   "metadata": {},
   "outputs": [
    {
     "data": {
      "image/png": "[encoded data removed]",
      "text/plain": [
       "<Figure size 864x1080 with 10 Axes>"
      ]
     },
     "metadata": {
      "needs_background": "light"
     },
     "output_type": "display_data"
    }
   ],
   "source": [
    "# Plotting distribution curve\n",
    "rows = 5\n",
    "cols = 2\n",
    "fig, axes = plt.subplots(nrows=rows,ncols=cols, figsize=(12,15))\n",
    "\n",
    "for name, ax in zip(num_col, axes.flatten()):\n",
    "    sns.distplot(df[name], ax=ax)\n",
    "\n",
    "fig.suptitle(\"Distribution Plot\", fontsize=20)\n",
    "fig.subplots_adjust(hspace=0.25)\n",
    "# fig.delaxes(axes[3,1])"
   ]
  },
  {
   "cell_type": "markdown",
   "id": "hollow-australian",
   "metadata": {},
   "source": [
    "None of the numerical column seems to be normally distributed. "
   ]
  },
  {
   "cell_type": "markdown",
   "id": "prerequisite-subsection",
   "metadata": {},
   "source": [
    "**In Shapiro-Wilk Normality Test :**\n",
    "\n",
    "H0 : The data are normally distributed"
   ]
  },
  {
   "cell_type": "code",
   "execution_count": 27,
   "id": "impossible-sierra",
   "metadata": {},
   "outputs": [
    {
     "name": "stdout",
     "output_type": "stream",
     "text": [
      "RETAIL_YEAR\n",
      "P_value =   1.0\n",
      "*******************************\n",
      "RETAIL_WEEK\n",
      "P_value =   0.0\n",
      "*******************************\n",
      "CAL_WK\n",
      "P_value =   0.0\n",
      "*******************************\n",
      "SLR_CNTRY_ID\n",
      "P_value =   0.0\n",
      "*******************************\n",
      "CHECKOUT_STATUS\n",
      "P_value =   0.0\n",
      "*******************************\n",
      "START_PRICE_USD\n",
      "P_value =   0.0\n",
      "*******************************\n",
      "CURNT_PRICE_USD\n",
      "P_value =   0.0\n",
      "*******************************\n",
      "QUANTITY\n",
      "P_value =   0.0\n",
      "*******************************\n",
      "GMB\n",
      "P_value =   0.0\n",
      "*******************************\n"
     ]
    }
   ],
   "source": [
    "for i in range(len(num_col)):\n",
    "    stat,p = shapiro(df[num_col[i]])\n",
    "    print(num_col[i])\n",
    "    print('P_value =  ' , (p))\n",
    "    print(\"*******************************\")"
   ]
  },
  {
   "cell_type": "markdown",
   "id": "printable-decade",
   "metadata": {},
   "source": [
    "According to the P_value obtained from the Shapiro test (p_value < 5%), \n",
    "we reject our null hypothesis \n",
    "\n",
    "(H0) --> So the numerical fields do not follow the normal distribution. \n",
    "\n",
    "Thus, our numerical column are not **normally distributed**"
   ]
  },
  {
   "cell_type": "markdown",
   "id": "junior-demographic",
   "metadata": {},
   "source": [
    "### 4.2 Outlier Detection"
   ]
  },
  {
   "cell_type": "code",
   "execution_count": 28,
   "id": "legitimate-coverage",
   "metadata": {},
   "outputs": [],
   "source": [
    "def outlier_detect(df, col):\n",
    "    q1_col = Q1[col]\n",
    "    iqr_col = IQR[col]\n",
    "    q3_col = Q3[col]\n",
    "    return df[((df[col] < (q1_col - 1.5 * iqr_col)) |(df[col] > (q3_col + 1.5 * iqr_col)))]\n",
    "\n",
    "# -------------------------------------------\n",
    "def lower_outlier(df, col):\n",
    "    q1_col = Q1[col]\n",
    "    iqr_col = IQR[col]\n",
    "    q3_col = Q3[col]\n",
    "    lower = df[(df[col] < (q1_col - 1.5 * iqr_col))]\n",
    "    return lower\n",
    "\n",
    "# -------------------------------------------\n",
    "def upper_outlier(df, col):\n",
    "    q1_col = Q1[col]\n",
    "    iqr_col = IQR[col]\n",
    "    q3_col = Q3[col]\n",
    "    upper = df[(df[col] > (q3_col + 1.5 * iqr_col))]\n",
    "    return upper\n",
    "\n",
    "# -------------------------------------------\n",
    "def replace_upper(df, col):\n",
    "    q1_col = Q1[col]\n",
    "    iqr_col = IQR[col]\n",
    "    q3_col = Q3[col]\n",
    "    tmp = 9999999\n",
    "    upper = q3_col + 1.5 * iqr_col\n",
    "    df[col] = df[col].where(lambda x: (x < (upper)), tmp)\n",
    "    df[col] = df[col].replace(tmp, upper)\n",
    "    print('outlire replace with upper bound - {}' .format(col)) \n",
    "    \n",
    "# -------------------------------------------\n",
    "def replace_lower(df, col):\n",
    "    q1_col = Q1[col]\n",
    "    iqr_col = IQR[col]\n",
    "    q3_col = Q3[col]\n",
    "    tmp = 1111111\n",
    "    lower = q1_col - 1.5 * iqr_col\n",
    "    df[col] = df[col].where(lambda x: (x > (lower)), tmp)\n",
    "    df[col] = df[col].replace(tmp, lower)\n",
    "    print('outlire replace with lower bound - {}' .format(col)) \n"
   ]
  },
  {
   "cell_type": "code",
   "execution_count": 29,
   "id": "initial-branch",
   "metadata": {},
   "outputs": [],
   "source": [
    "def find_outliers(df, col):\n",
    "    \n",
    "    q1 = df[col].quantile(.25)\n",
    "    q3 = df[col].quantile(.75)\n",
    "    \n",
    "    IQR = q3 - q1\n",
    "\n",
    "    lower_bound = q1 - (1.5*IQR)\n",
    "    upper_bound = q3 + (1.5*IQR)\n",
    "\n",
    "    ls = df.index[(df[col]<lower_bound) | (df[col]>upper_bound)]\n",
    "    \n",
    "\n",
    "    if len(ls) > 0:\n",
    "        print(\"There are \",len(ls), \"Outliers present in column : \", col)\n",
    "    return(ls)"
   ]
  },
  {
   "cell_type": "code",
   "execution_count": 30,
   "id": "exceptional-island",
   "metadata": {},
   "outputs": [
    {
     "name": "stdout",
     "output_type": "stream",
     "text": [
      "There are  1538 Outliers present in column :  SLR_CNTRY_ID\n",
      "There are  213 Outliers present in column :  CHECKOUT_STATUS\n",
      "There are  1174 Outliers present in column :  START_PRICE_USD\n",
      "There are  1179 Outliers present in column :  CURNT_PRICE_USD\n",
      "There are  631 Outliers present in column :  QUANTITY\n",
      "There are  1220 Outliers present in column :  GMB\n",
      "Total number of outliers is  3239\n"
     ]
    }
   ],
   "source": [
    "outliers = []\n",
    "for col in num_col:\n",
    "    outliers.extend(find_outliers(df, col))\n",
    "print(\"Total number of outliers is \",len(set(outliers)))"
   ]
  },
  {
   "cell_type": "code",
   "execution_count": 31,
   "id": "italian-partition",
   "metadata": {},
   "outputs": [
    {
     "data": {
      "image/png": "[encoded data removed]",
      "text/plain": [
       "<Figure size 864x1080 with 10 Axes>"
      ]
     },
     "metadata": {
      "needs_background": "light"
     },
     "output_type": "display_data"
    }
   ],
   "source": [
    "# Plotting boxplot\n",
    "rows = 5\n",
    "cols = 2\n",
    "fig, axes = plt.subplots(nrows=rows,ncols=cols, figsize=(12,15))\n",
    "# plt.figure(figsize=(10,10))\n",
    "for name, ax in zip(num_col, axes.flatten()):\n",
    "    sns.boxplot(df[name], ax=ax)\n",
    "fig.suptitle(\"BOXPLOT\", fontsize=20)\n",
    "fig.subplots_adjust(hspace=0.25)\n",
    "# fig.delaxes(axes[3,1])"
   ]
  },
  {
   "cell_type": "markdown",
   "id": "automated-charge",
   "metadata": {},
   "source": [
    "### 4.2 Handling outliers "
   ]
  },
  {
   "cell_type": "code",
   "execution_count": 32,
   "id": "conservative-cemetery",
   "metadata": {},
   "outputs": [],
   "source": [
    "Q1 = df.quantile(0.25)\n",
    "Q3 = df.quantile(0.75)\n",
    "IQR = Q3 - Q1"
   ]
  },
  {
   "cell_type": "code",
   "execution_count": 33,
   "id": "welcome-religion",
   "metadata": {},
   "outputs": [
    {
     "name": "stdout",
     "output_type": "stream",
     "text": [
      "IQR => RETAIL_YEAR: 0\n",
      "IQR => RETAIL_WEEK: 0\n",
      "IQR => CAL_WK: 0\n",
      "IQR => SLR_CNTRY_ID: 1538\n",
      "IQR => CHECKOUT_STATUS: 213\n",
      "IQR => START_PRICE_USD: 1174\n",
      "IQR => CURNT_PRICE_USD: 1179\n",
      "IQR => QUANTITY: 631\n",
      "IQR => GMB: 1220\n"
     ]
    }
   ],
   "source": [
    "for i in range(0,len(num_col)):\n",
    "    print(\"IQR => {}: {}\".format(num_col[i],(outlier_detect(df[num_col],num_col[i]).shape[0])))"
   ]
  },
  {
   "cell_type": "code",
   "execution_count": 34,
   "id": "emotional-missouri",
   "metadata": {},
   "outputs": [
    {
     "data": {
      "text/plain": [
       "['SLR_CNTRY_ID',\n",
       " 'CHECKOUT_STATUS',\n",
       " 'START_PRICE_USD',\n",
       " 'CURNT_PRICE_USD',\n",
       " 'QUANTITY',\n",
       " 'GMB']"
      ]
     },
     "execution_count": 34,
     "metadata": {},
     "output_type": "execute_result"
    }
   ],
   "source": [
    "outlier = []\n",
    "for i in range(len(num_col)):\n",
    "    if outlier_detect(df[num_col],num_col[i]).shape[0] !=0:\n",
    "        outlier.append(num_col[i])\n",
    "outlier"
   ]
  },
  {
   "cell_type": "markdown",
   "id": "marine-conversion",
   "metadata": {},
   "source": [
    "#### 4.2.1 by replacing outliers with upper and lower bound"
   ]
  },
  {
   "cell_type": "code",
   "execution_count": 35,
   "id": "lesbian-dating",
   "metadata": {},
   "outputs": [
    {
     "name": "stdout",
     "output_type": "stream",
     "text": [
      "outlire replace with upper bound - SLR_CNTRY_ID\n",
      "outlire replace with upper bound - CHECKOUT_STATUS\n",
      "outlire replace with upper bound - START_PRICE_USD\n",
      "outlire replace with upper bound - CURNT_PRICE_USD\n",
      "outlire replace with upper bound - QUANTITY\n",
      "outlire replace with upper bound - GMB\n",
      "\n",
      "*******************************************\n",
      "\n",
      "outlire replace with lower bound - SLR_CNTRY_ID\n",
      "outlire replace with lower bound - CHECKOUT_STATUS\n",
      "outlire replace with lower bound - START_PRICE_USD\n",
      "outlire replace with lower bound - CURNT_PRICE_USD\n",
      "outlire replace with lower bound - QUANTITY\n",
      "outlire replace with lower bound - GMB\n"
     ]
    }
   ],
   "source": [
    "for i in range(len(outlier)):\n",
    "    replace_upper(df, outlier[i]) \n",
    "    \n",
    "print(\"\\n*******************************************\\n\")\n",
    "for i in range(len(outlier)):\n",
    "    replace_lower(df, outlier[i])"
   ]
  },
  {
   "cell_type": "code",
   "execution_count": 36,
   "id": "handmade-astronomy",
   "metadata": {},
   "outputs": [
    {
     "data": {
      "image/png": "[encoded data removed]",
      "text/plain": [
       "<Figure size 864x1080 with 10 Axes>"
      ]
     },
     "metadata": {
      "needs_background": "light"
     },
     "output_type": "display_data"
    }
   ],
   "source": [
    "# Plotting boxplot\n",
    "rows = 5\n",
    "cols = 2\n",
    "fig, axes = plt.subplots(nrows=rows,ncols=cols, figsize=(12,15))\n",
    "# plt.figure(figsize=(10,10))\n",
    "for name, ax in zip(num_col, axes.flatten()):\n",
    "    sns.boxplot(df[name], ax=ax)\n",
    "fig.suptitle(\"Outliers Replaced with Upper & Lower bound values\", fontsize=20)\n",
    "fig.subplots_adjust(hspace=0.25)"
   ]
  },
  {
   "cell_type": "markdown",
   "id": "neural-college",
   "metadata": {},
   "source": [
    "### 4.3 Checking correlation of data "
   ]
  },
  {
   "cell_type": "code",
   "execution_count": 37,
   "id": "chicken-affair",
   "metadata": {},
   "outputs": [
    {
     "data": {
      "text/html": [
       "<div>\n",
       "<style scoped>\n",
       "    .dataframe tbody tr th:only-of-type {\n",
       "        vertical-align: middle;\n",
       "    }\n",
       "\n",
       "    .dataframe tbody tr th {\n",
       "        vertical-align: top;\n",
       "    }\n",
       "\n",
       "    .dataframe thead th {\n",
       "        text-align: right;\n",
       "    }\n",
       "</style>\n",
       "<table border=\"1\" class=\"dataframe\">\n",
       "  <thead>\n",
       "    <tr style=\"text-align: right;\">\n",
       "      <th></th>\n",
       "      <th>RETAIL_YEAR</th>\n",
       "      <th>RETAIL_WEEK</th>\n",
       "      <th>CAL_WK</th>\n",
       "      <th>SLR_CNTRY_ID</th>\n",
       "      <th>CHECKOUT_STATUS</th>\n",
       "      <th>START_PRICE_USD</th>\n",
       "      <th>CURNT_PRICE_USD</th>\n",
       "      <th>QUANTITY</th>\n",
       "      <th>GMB</th>\n",
       "    </tr>\n",
       "  </thead>\n",
       "  <tbody>\n",
       "    <tr>\n",
       "      <th>RETAIL_YEAR</th>\n",
       "      <td>NaN</td>\n",
       "      <td>NaN</td>\n",
       "      <td>NaN</td>\n",
       "      <td>NaN</td>\n",
       "      <td>NaN</td>\n",
       "      <td>NaN</td>\n",
       "      <td>NaN</td>\n",
       "      <td>NaN</td>\n",
       "      <td>NaN</td>\n",
       "    </tr>\n",
       "    <tr>\n",
       "      <th>RETAIL_WEEK</th>\n",
       "      <td>NaN</td>\n",
       "      <td>1.000000</td>\n",
       "      <td>0.957228</td>\n",
       "      <td>NaN</td>\n",
       "      <td>NaN</td>\n",
       "      <td>-0.005439</td>\n",
       "      <td>-0.003421</td>\n",
       "      <td>NaN</td>\n",
       "      <td>-0.003723</td>\n",
       "    </tr>\n",
       "    <tr>\n",
       "      <th>CAL_WK</th>\n",
       "      <td>NaN</td>\n",
       "      <td>0.957228</td>\n",
       "      <td>1.000000</td>\n",
       "      <td>NaN</td>\n",
       "      <td>NaN</td>\n",
       "      <td>0.003286</td>\n",
       "      <td>0.000091</td>\n",
       "      <td>NaN</td>\n",
       "      <td>-0.000518</td>\n",
       "    </tr>\n",
       "    <tr>\n",
       "      <th>SLR_CNTRY_ID</th>\n",
       "      <td>NaN</td>\n",
       "      <td>NaN</td>\n",
       "      <td>NaN</td>\n",
       "      <td>NaN</td>\n",
       "      <td>NaN</td>\n",
       "      <td>NaN</td>\n",
       "      <td>NaN</td>\n",
       "      <td>NaN</td>\n",
       "      <td>NaN</td>\n",
       "    </tr>\n",
       "    <tr>\n",
       "      <th>CHECKOUT_STATUS</th>\n",
       "      <td>NaN</td>\n",
       "      <td>NaN</td>\n",
       "      <td>NaN</td>\n",
       "      <td>NaN</td>\n",
       "      <td>NaN</td>\n",
       "      <td>NaN</td>\n",
       "      <td>NaN</td>\n",
       "      <td>NaN</td>\n",
       "      <td>NaN</td>\n",
       "    </tr>\n",
       "    <tr>\n",
       "      <th>START_PRICE_USD</th>\n",
       "      <td>NaN</td>\n",
       "      <td>-0.005439</td>\n",
       "      <td>0.003286</td>\n",
       "      <td>NaN</td>\n",
       "      <td>NaN</td>\n",
       "      <td>1.000000</td>\n",
       "      <td>0.934015</td>\n",
       "      <td>NaN</td>\n",
       "      <td>0.902471</td>\n",
       "    </tr>\n",
       "    <tr>\n",
       "      <th>CURNT_PRICE_USD</th>\n",
       "      <td>NaN</td>\n",
       "      <td>-0.003421</td>\n",
       "      <td>0.000091</td>\n",
       "      <td>NaN</td>\n",
       "      <td>NaN</td>\n",
       "      <td>0.934015</td>\n",
       "      <td>1.000000</td>\n",
       "      <td>NaN</td>\n",
       "      <td>0.943214</td>\n",
       "    </tr>\n",
       "    <tr>\n",
       "      <th>QUANTITY</th>\n",
       "      <td>NaN</td>\n",
       "      <td>NaN</td>\n",
       "      <td>NaN</td>\n",
       "      <td>NaN</td>\n",
       "      <td>NaN</td>\n",
       "      <td>NaN</td>\n",
       "      <td>NaN</td>\n",
       "      <td>NaN</td>\n",
       "      <td>NaN</td>\n",
       "    </tr>\n",
       "    <tr>\n",
       "      <th>GMB</th>\n",
       "      <td>NaN</td>\n",
       "      <td>-0.003723</td>\n",
       "      <td>-0.000518</td>\n",
       "      <td>NaN</td>\n",
       "      <td>NaN</td>\n",
       "      <td>0.902471</td>\n",
       "      <td>0.943214</td>\n",
       "      <td>NaN</td>\n",
       "      <td>1.000000</td>\n",
       "    </tr>\n",
       "  </tbody>\n",
       "</table>\n",
       "</div>"
      ],
      "text/plain": [
       "                 RETAIL_YEAR  RETAIL_WEEK    CAL_WK  SLR_CNTRY_ID  \\\n",
       "RETAIL_YEAR              NaN          NaN       NaN           NaN   \n",
       "RETAIL_WEEK              NaN     1.000000  0.957228           NaN   \n",
       "CAL_WK                   NaN     0.957228  1.000000           NaN   \n",
       "SLR_CNTRY_ID             NaN          NaN       NaN           NaN   \n",
       "CHECKOUT_STATUS          NaN          NaN       NaN           NaN   \n",
       "START_PRICE_USD          NaN    -0.005439  0.003286           NaN   \n",
       "CURNT_PRICE_USD          NaN    -0.003421  0.000091           NaN   \n",
       "QUANTITY                 NaN          NaN       NaN           NaN   \n",
       "GMB                      NaN    -0.003723 -0.000518           NaN   \n",
       "\n",
       "                 CHECKOUT_STATUS  START_PRICE_USD  CURNT_PRICE_USD  QUANTITY  \\\n",
       "RETAIL_YEAR                  NaN              NaN              NaN       NaN   \n",
       "RETAIL_WEEK                  NaN        -0.005439        -0.003421       NaN   \n",
       "CAL_WK                       NaN         0.003286         0.000091       NaN   \n",
       "SLR_CNTRY_ID                 NaN              NaN              NaN       NaN   \n",
       "CHECKOUT_STATUS              NaN              NaN              NaN       NaN   \n",
       "START_PRICE_USD              NaN         1.000000         0.934015       NaN   \n",
       "CURNT_PRICE_USD              NaN         0.934015         1.000000       NaN   \n",
       "QUANTITY                     NaN              NaN              NaN       NaN   \n",
       "GMB                          NaN         0.902471         0.943214       NaN   \n",
       "\n",
       "                      GMB  \n",
       "RETAIL_YEAR           NaN  \n",
       "RETAIL_WEEK     -0.003723  \n",
       "CAL_WK          -0.000518  \n",
       "SLR_CNTRY_ID          NaN  \n",
       "CHECKOUT_STATUS       NaN  \n",
       "START_PRICE_USD  0.902471  \n",
       "CURNT_PRICE_USD  0.943214  \n",
       "QUANTITY              NaN  \n",
       "GMB              1.000000  "
      ]
     },
     "execution_count": 37,
     "metadata": {},
     "output_type": "execute_result"
    }
   ],
   "source": [
    "df_corr = df.corr()\n",
    "df_corr"
   ]
  },
  {
   "cell_type": "code",
   "execution_count": 38,
   "id": "bored-logic",
   "metadata": {},
   "outputs": [
    {
     "data": {
      "text/plain": [
       "<AxesSubplot:>"
      ]
     },
     "execution_count": 38,
     "metadata": {},
     "output_type": "execute_result"
    },
    {
     "data": {
      "image/png": "[encoded data removed]",
      "text/plain": [
       "<Figure size 864x576 with 2 Axes>"
      ]
     },
     "metadata": {
      "needs_background": "light"
     },
     "output_type": "display_data"
    }
   ],
   "source": [
    "plt.figure(figsize=(12,8))\n",
    "sns.heatmap(df_corr, cmap=\"Accent_r\", annot=True)"
   ]
  },
  {
   "cell_type": "markdown",
   "id": "fancy-namibia",
   "metadata": {},
   "source": [
    "The columns **SLR_CNTRY_ID, BYR_CNTRY_I** do not have any correlation among them. Also,  **RETAIL_YEAR** is not correlated to any other column"
   ]
  },
  {
   "cell_type": "code",
   "execution_count": 39,
   "id": "fifth-report",
   "metadata": {},
   "outputs": [
    {
     "data": {
      "text/plain": [
       "Index(['BYR_CNTRY_DESC', 'AUCT_END_DT', 'CREATED_DT', 'BSNS_VRTCL_NAME',\n",
       "       'META_CATEG_NAME', 'USER_CRE_DATE', 'CATEG_LVL2_NAME',\n",
       "       'CATEG_LVL3_NAME', 'CATEG_LVL4_NAME', 'FM_seg'],\n",
       "      dtype='object')"
      ]
     },
     "execution_count": 39,
     "metadata": {},
     "output_type": "execute_result"
    }
   ],
   "source": [
    "cat_col"
   ]
  },
  {
   "cell_type": "code",
   "execution_count": 40,
   "id": "ultimate-disney",
   "metadata": {},
   "outputs": [
    {
     "data": {
      "text/plain": [
       "<AxesSubplot:xlabel='count', ylabel='META_CATEG_NAME'>"
      ]
     },
     "execution_count": 40,
     "metadata": {},
     "output_type": "execute_result"
    },
    {
     "data": {
      "image/png": "[encoded data removed]",
      "text/plain": [
       "<Figure size 720x1440 with 1 Axes>"
      ]
     },
     "metadata": {
      "needs_background": "light"
     },
     "output_type": "display_data"
    }
   ],
   "source": [
    "plt.figure(figsize=(10,20))\n",
    "sns.countplot( y = 'META_CATEG_NAME' ,data = df, order = df['META_CATEG_NAME'].value_counts().index)"
   ]
  },
  {
   "cell_type": "code",
   "execution_count": 41,
   "id": "acquired-clark",
   "metadata": {},
   "outputs": [
    {
     "data": {
      "text/plain": [
       "Clothing, Shoes & Accessories     1303\n",
       "eBay Motors                       1250\n",
       "Home & Garden                     1043\n",
       "Sports Mem, Cards & Fan Shop       940\n",
       "Collectibles                       765\n",
       "Toys & Hobbies                     549\n",
       "Health & Beauty                    510\n",
       "Sporting Goods                     422\n",
       "Business & Industrial              371\n",
       "Books & Magazines                  272\n",
       "Consumer Electronics               255\n",
       "Stamps                             253\n",
       "Computers/Tablets & Networking     246\n",
       "Music                              225\n",
       "Video Games & Consoles             221\n",
       "Cell Phones & Accessories          215\n",
       "Coins & Paper Money                212\n",
       "Jewelry & Watches                  211\n",
       "Movies & TV                        136\n",
       "Crafts                             129\n",
       "Musical Instruments & Gear          94\n",
       "Cameras & Photo                     71\n",
       "Pet Supplies                        57\n",
       "Pottery & Glass                     57\n",
       "Entertainment Memorabilia           50\n",
       "Art                                 38\n",
       "Antiques                            32\n",
       "Specialty Services                  29\n",
       "Dolls & Bears                       24\n",
       "Baby                                 9\n",
       "Everything Else                      5\n",
       "Travel                               5\n",
       "Gift Cards & Coupons                 1\n",
       "Name: META_CATEG_NAME, dtype: int64"
      ]
     },
     "execution_count": 41,
     "metadata": {},
     "output_type": "execute_result"
    }
   ],
   "source": [
    "df['META_CATEG_NAME'].value_counts()"
   ]
  },
  {
   "cell_type": "markdown",
   "id": "royal-theology",
   "metadata": {},
   "source": [
    "MOST-AUCTIONED-CATEGORY : Clothing, Shoes & Accessories "
   ]
  },
  {
   "cell_type": "code",
   "execution_count": 42,
   "id": "healthy-percentage",
   "metadata": {},
   "outputs": [],
   "source": [
    "df_temp = df[df['META_CATEG_NAME'] == \"Clothing, Shoes & Accessories\"]"
   ]
  },
  {
   "cell_type": "code",
   "execution_count": 43,
   "id": "focused-color",
   "metadata": {},
   "outputs": [
    {
     "data": {
      "text/plain": [
       "Text(0.5, 1.0, 'Buyer Country Count')"
      ]
     },
     "execution_count": 43,
     "metadata": {},
     "output_type": "execute_result"
    },
    {
     "data": {
      "image/png": "[encoded data removed]",
      "text/plain": [
       "<Figure size 1080x720 with 1 Axes>"
      ]
     },
     "metadata": {
      "needs_background": "light"
     },
     "output_type": "display_data"
    }
   ],
   "source": [
    "ax = sns.countplot( y = 'BYR_CNTRY_DESC' ,data = df_temp)\n",
    "for p in ax.patches:\n",
    "    width = p.get_width()\n",
    "    plt.text(35+p.get_width(), p.get_y()+0.55*p.get_height(),\n",
    "             '{:1.2f}'.format(width),\n",
    "             ha='center', va='center')\n",
    "plt.title(\"Buyer Country Count\")"
   ]
  },
  {
   "cell_type": "code",
   "execution_count": 44,
   "id": "suitable-reply",
   "metadata": {},
   "outputs": [
    {
     "data": {
      "text/plain": [
       "United States           1272\n",
       "Germany                    9\n",
       "Australia                  5\n",
       "Canada                     4\n",
       "Brazil                     4\n",
       "United Kingdom             2\n",
       "New Zealand                1\n",
       "APO/FPO                    1\n",
       "Netherlands                1\n",
       "Spain                      1\n",
       "Norway                     1\n",
       "Netherlands Antilles       1\n",
       "Denmark                    1\n",
       "Name: BYR_CNTRY_DESC, dtype: int64"
      ]
     },
     "execution_count": 44,
     "metadata": {},
     "output_type": "execute_result"
    }
   ],
   "source": [
    "df_temp['BYR_CNTRY_DESC'].value_counts()"
   ]
  },
  {
   "cell_type": "markdown",
   "id": "friendly-enhancement",
   "metadata": {},
   "source": [
    "**United states is the country that buys the most goods of category Clothing, Shoes & Accessories**"
   ]
  },
  {
   "cell_type": "code",
   "execution_count": 45,
   "id": "neutral-exhibit",
   "metadata": {},
   "outputs": [
    {
     "data": {
      "text/html": [
       "<div>\n",
       "<style scoped>\n",
       "    .dataframe tbody tr th:only-of-type {\n",
       "        vertical-align: middle;\n",
       "    }\n",
       "\n",
       "    .dataframe tbody tr th {\n",
       "        vertical-align: top;\n",
       "    }\n",
       "\n",
       "    .dataframe thead th {\n",
       "        text-align: right;\n",
       "    }\n",
       "</style>\n",
       "<table border=\"1\" class=\"dataframe\">\n",
       "  <thead>\n",
       "    <tr style=\"text-align: right;\">\n",
       "      <th></th>\n",
       "      <th>USER_CRE_DATE</th>\n",
       "      <th>BYR_CNTRY_DESC</th>\n",
       "    </tr>\n",
       "  </thead>\n",
       "  <tbody>\n",
       "    <tr>\n",
       "      <th>0</th>\n",
       "      <td>05-06-1997 04:31</td>\n",
       "      <td>United States</td>\n",
       "    </tr>\n",
       "    <tr>\n",
       "      <th>1</th>\n",
       "      <td>05-06-1997 04:31</td>\n",
       "      <td>United States</td>\n",
       "    </tr>\n",
       "    <tr>\n",
       "      <th>2</th>\n",
       "      <td>05-06-1997 04:31</td>\n",
       "      <td>United States</td>\n",
       "    </tr>\n",
       "    <tr>\n",
       "      <th>3</th>\n",
       "      <td>05-06-1997 04:31</td>\n",
       "      <td>United States</td>\n",
       "    </tr>\n",
       "    <tr>\n",
       "      <th>4</th>\n",
       "      <td>05-06-1997 04:31</td>\n",
       "      <td>United States</td>\n",
       "    </tr>\n",
       "  </tbody>\n",
       "</table>\n",
       "</div>"
      ],
      "text/plain": [
       "      USER_CRE_DATE BYR_CNTRY_DESC\n",
       "0  05-06-1997 04:31  United States\n",
       "1  05-06-1997 04:31  United States\n",
       "2  05-06-1997 04:31  United States\n",
       "3  05-06-1997 04:31  United States\n",
       "4  05-06-1997 04:31  United States"
      ]
     },
     "execution_count": 45,
     "metadata": {},
     "output_type": "execute_result"
    }
   ],
   "source": [
    "df_temp = df[['USER_CRE_DATE' , 'BYR_CNTRY_DESC']]\n",
    "df_temp.head()"
   ]
  },
  {
   "cell_type": "code",
   "execution_count": 46,
   "id": "bibliographic-score",
   "metadata": {},
   "outputs": [
    {
     "data": {
      "text/html": [
       "<div>\n",
       "<style scoped>\n",
       "    .dataframe tbody tr th:only-of-type {\n",
       "        vertical-align: middle;\n",
       "    }\n",
       "\n",
       "    .dataframe tbody tr th {\n",
       "        vertical-align: top;\n",
       "    }\n",
       "\n",
       "    .dataframe thead th {\n",
       "        text-align: right;\n",
       "    }\n",
       "</style>\n",
       "<table border=\"1\" class=\"dataframe\">\n",
       "  <thead>\n",
       "    <tr style=\"text-align: right;\">\n",
       "      <th></th>\n",
       "      <th>USER_CRE_DATE</th>\n",
       "      <th>BYR_CNTRY_DESC</th>\n",
       "    </tr>\n",
       "  </thead>\n",
       "  <tbody>\n",
       "    <tr>\n",
       "      <th>0</th>\n",
       "      <td>05-06-1997</td>\n",
       "      <td>United States</td>\n",
       "    </tr>\n",
       "    <tr>\n",
       "      <th>1</th>\n",
       "      <td>05-06-1997</td>\n",
       "      <td>United States</td>\n",
       "    </tr>\n",
       "    <tr>\n",
       "      <th>2</th>\n",
       "      <td>05-06-1997</td>\n",
       "      <td>United States</td>\n",
       "    </tr>\n",
       "    <tr>\n",
       "      <th>3</th>\n",
       "      <td>05-06-1997</td>\n",
       "      <td>United States</td>\n",
       "    </tr>\n",
       "    <tr>\n",
       "      <th>4</th>\n",
       "      <td>05-06-1997</td>\n",
       "      <td>United States</td>\n",
       "    </tr>\n",
       "    <tr>\n",
       "      <th>...</th>\n",
       "      <td>...</td>\n",
       "      <td>...</td>\n",
       "    </tr>\n",
       "    <tr>\n",
       "      <th>9995</th>\n",
       "      <td>06-08-2007</td>\n",
       "      <td>United States</td>\n",
       "    </tr>\n",
       "    <tr>\n",
       "      <th>9996</th>\n",
       "      <td>06-08-2007</td>\n",
       "      <td>United States</td>\n",
       "    </tr>\n",
       "    <tr>\n",
       "      <th>9997</th>\n",
       "      <td>06-08-2007</td>\n",
       "      <td>United States</td>\n",
       "    </tr>\n",
       "    <tr>\n",
       "      <th>9998</th>\n",
       "      <td>06-08-2007</td>\n",
       "      <td>United States</td>\n",
       "    </tr>\n",
       "    <tr>\n",
       "      <th>9999</th>\n",
       "      <td>06-08-2007</td>\n",
       "      <td>United States</td>\n",
       "    </tr>\n",
       "  </tbody>\n",
       "</table>\n",
       "<p>10000 rows × 2 columns</p>\n",
       "</div>"
      ],
      "text/plain": [
       "     USER_CRE_DATE BYR_CNTRY_DESC\n",
       "0       05-06-1997  United States\n",
       "1       05-06-1997  United States\n",
       "2       05-06-1997  United States\n",
       "3       05-06-1997  United States\n",
       "4       05-06-1997  United States\n",
       "...            ...            ...\n",
       "9995    06-08-2007  United States\n",
       "9996    06-08-2007  United States\n",
       "9997    06-08-2007  United States\n",
       "9998    06-08-2007  United States\n",
       "9999    06-08-2007  United States\n",
       "\n",
       "[10000 rows x 2 columns]"
      ]
     },
     "execution_count": 46,
     "metadata": {},
     "output_type": "execute_result"
    }
   ],
   "source": [
    "df_temp['USER_CRE_DATE'] = df_temp['USER_CRE_DATE'].str[:10]\n",
    "df_temp"
   ]
  },
  {
   "cell_type": "code",
   "execution_count": 47,
   "id": "activated-consortium",
   "metadata": {},
   "outputs": [
    {
     "data": {
      "text/html": [
       "<div>\n",
       "<style scoped>\n",
       "    .dataframe tbody tr th:only-of-type {\n",
       "        vertical-align: middle;\n",
       "    }\n",
       "\n",
       "    .dataframe tbody tr th {\n",
       "        vertical-align: top;\n",
       "    }\n",
       "\n",
       "    .dataframe thead th {\n",
       "        text-align: right;\n",
       "    }\n",
       "</style>\n",
       "<table border=\"1\" class=\"dataframe\">\n",
       "  <thead>\n",
       "    <tr style=\"text-align: right;\">\n",
       "      <th></th>\n",
       "      <th>USER_CRE_DATE</th>\n",
       "      <th>BYR_CNTRY_DESC</th>\n",
       "      <th>year</th>\n",
       "    </tr>\n",
       "  </thead>\n",
       "  <tbody>\n",
       "    <tr>\n",
       "      <th>0</th>\n",
       "      <td>1997-05-06</td>\n",
       "      <td>United States</td>\n",
       "      <td>1997</td>\n",
       "    </tr>\n",
       "    <tr>\n",
       "      <th>1</th>\n",
       "      <td>1997-05-06</td>\n",
       "      <td>United States</td>\n",
       "      <td>1997</td>\n",
       "    </tr>\n",
       "    <tr>\n",
       "      <th>2</th>\n",
       "      <td>1997-05-06</td>\n",
       "      <td>United States</td>\n",
       "      <td>1997</td>\n",
       "    </tr>\n",
       "    <tr>\n",
       "      <th>3</th>\n",
       "      <td>1997-05-06</td>\n",
       "      <td>United States</td>\n",
       "      <td>1997</td>\n",
       "    </tr>\n",
       "    <tr>\n",
       "      <th>4</th>\n",
       "      <td>1997-05-06</td>\n",
       "      <td>United States</td>\n",
       "      <td>1997</td>\n",
       "    </tr>\n",
       "    <tr>\n",
       "      <th>...</th>\n",
       "      <td>...</td>\n",
       "      <td>...</td>\n",
       "      <td>...</td>\n",
       "    </tr>\n",
       "    <tr>\n",
       "      <th>9995</th>\n",
       "      <td>2007-06-08</td>\n",
       "      <td>United States</td>\n",
       "      <td>2007</td>\n",
       "    </tr>\n",
       "    <tr>\n",
       "      <th>9996</th>\n",
       "      <td>2007-06-08</td>\n",
       "      <td>United States</td>\n",
       "      <td>2007</td>\n",
       "    </tr>\n",
       "    <tr>\n",
       "      <th>9997</th>\n",
       "      <td>2007-06-08</td>\n",
       "      <td>United States</td>\n",
       "      <td>2007</td>\n",
       "    </tr>\n",
       "    <tr>\n",
       "      <th>9998</th>\n",
       "      <td>2007-06-08</td>\n",
       "      <td>United States</td>\n",
       "      <td>2007</td>\n",
       "    </tr>\n",
       "    <tr>\n",
       "      <th>9999</th>\n",
       "      <td>2007-06-08</td>\n",
       "      <td>United States</td>\n",
       "      <td>2007</td>\n",
       "    </tr>\n",
       "  </tbody>\n",
       "</table>\n",
       "<p>10000 rows × 3 columns</p>\n",
       "</div>"
      ],
      "text/plain": [
       "     USER_CRE_DATE BYR_CNTRY_DESC  year\n",
       "0       1997-05-06  United States  1997\n",
       "1       1997-05-06  United States  1997\n",
       "2       1997-05-06  United States  1997\n",
       "3       1997-05-06  United States  1997\n",
       "4       1997-05-06  United States  1997\n",
       "...            ...            ...   ...\n",
       "9995    2007-06-08  United States  2007\n",
       "9996    2007-06-08  United States  2007\n",
       "9997    2007-06-08  United States  2007\n",
       "9998    2007-06-08  United States  2007\n",
       "9999    2007-06-08  United States  2007\n",
       "\n",
       "[10000 rows x 3 columns]"
      ]
     },
     "execution_count": 47,
     "metadata": {},
     "output_type": "execute_result"
    }
   ],
   "source": [
    "df_temp['USER_CRE_DATE'] = pd.to_datetime(df_temp['USER_CRE_DATE'])\n",
    "df_temp['year'] = df_temp['USER_CRE_DATE'].dt.year\n",
    "df_temp"
   ]
  },
  {
   "cell_type": "code",
   "execution_count": 48,
   "id": "copyrighted-editing",
   "metadata": {},
   "outputs": [
    {
     "data": {
      "text/plain": [
       "<AxesSubplot:xlabel='count', ylabel='year'>"
      ]
     },
     "execution_count": 48,
     "metadata": {},
     "output_type": "execute_result"
    },
    {
     "data": {
      "image/png": "[encoded data removed]",
      "text/plain": [
       "<Figure size 1080x720 with 1 Axes>"
      ]
     },
     "metadata": {
      "needs_background": "light"
     },
     "output_type": "display_data"
    }
   ],
   "source": [
    "sns.countplot( y = 'year' ,data = df_temp, order = df_temp['year'].value_counts().index)\n"
   ]
  },
  {
   "cell_type": "code",
   "execution_count": 49,
   "id": "dying-growth",
   "metadata": {},
   "outputs": [
    {
     "data": {
      "text/plain": [
       "2005    1241\n",
       "2006    1193\n",
       "2003    1160\n",
       "2000    1056\n",
       "2002     957\n",
       "2004     948\n",
       "2001     947\n",
       "1999     848\n",
       "2007     622\n",
       "1998     287\n",
       "2022     127\n",
       "2020     117\n",
       "2014      75\n",
       "2019      73\n",
       "2017      68\n",
       "2018      57\n",
       "2012      45\n",
       "2013      44\n",
       "1997      39\n",
       "2016      32\n",
       "2021      28\n",
       "2015      18\n",
       "2010      10\n",
       "2011       5\n",
       "2009       2\n",
       "1996       1\n",
       "Name: year, dtype: int64"
      ]
     },
     "execution_count": 49,
     "metadata": {},
     "output_type": "execute_result"
    }
   ],
   "source": [
    "df_temp['year'].value_counts()"
   ]
  },
  {
   "cell_type": "markdown",
   "id": "fancy-jacob",
   "metadata": {},
   "source": [
    "IN **2005** most user were created"
   ]
  },
  {
   "cell_type": "code",
   "execution_count": 50,
   "id": "driving-turkey",
   "metadata": {},
   "outputs": [
    {
     "data": {
      "text/plain": [
       "Timestamp('1996-08-31 00:00:00')"
      ]
     },
     "execution_count": 50,
     "metadata": {},
     "output_type": "execute_result"
    }
   ],
   "source": [
    "df_temp[\"USER_CRE_DATE\"].min()"
   ]
  },
  {
   "cell_type": "code",
   "execution_count": 51,
   "id": "arranged-blake",
   "metadata": {},
   "outputs": [
    {
     "data": {
      "text/plain": [
       "1111    United States\n",
       "3146    United States\n",
       "6067    United States\n",
       "9687    United States\n",
       "9688    United States\n",
       "Name: BYR_CNTRY_DESC, dtype: object"
      ]
     },
     "execution_count": 51,
     "metadata": {},
     "output_type": "execute_result"
    }
   ],
   "source": [
    "oldest_user_country = df_temp['BYR_CNTRY_DESC'].loc[df_temp[\"USER_CRE_DATE\"] == df[\"AUCT_END_DT\"].min()]\n",
    "oldest_user_country"
   ]
  },
  {
   "cell_type": "markdown",
   "id": "instructional-theology",
   "metadata": {},
   "source": [
    "**Oldest user belongs to United States**"
   ]
  },
  {
   "cell_type": "code",
   "execution_count": 52,
   "id": "ancient-norfolk",
   "metadata": {},
   "outputs": [
    {
     "data": {
      "text/html": [
       "<div>\n",
       "<style scoped>\n",
       "    .dataframe tbody tr th:only-of-type {\n",
       "        vertical-align: middle;\n",
       "    }\n",
       "\n",
       "    .dataframe tbody tr th {\n",
       "        vertical-align: top;\n",
       "    }\n",
       "\n",
       "    .dataframe thead th {\n",
       "        text-align: right;\n",
       "    }\n",
       "</style>\n",
       "<table border=\"1\" class=\"dataframe\">\n",
       "  <thead>\n",
       "    <tr style=\"text-align: right;\">\n",
       "      <th></th>\n",
       "      <th>0</th>\n",
       "      <th>1</th>\n",
       "      <th>2</th>\n",
       "      <th>3</th>\n",
       "      <th>4</th>\n",
       "    </tr>\n",
       "  </thead>\n",
       "  <tbody>\n",
       "    <tr>\n",
       "      <th>AUCT_END_DT</th>\n",
       "      <td>14-07-2022</td>\n",
       "      <td>06-07-2022</td>\n",
       "      <td>23-07-2022</td>\n",
       "      <td>28-07-2022</td>\n",
       "      <td>28-07-2022</td>\n",
       "    </tr>\n",
       "  </tbody>\n",
       "</table>\n",
       "</div>"
      ],
      "text/plain": [
       "                      0           1           2           3           4\n",
       "AUCT_END_DT  14-07-2022  06-07-2022  23-07-2022  28-07-2022  28-07-2022"
      ]
     },
     "execution_count": 52,
     "metadata": {},
     "output_type": "execute_result"
    }
   ],
   "source": [
    "df_temp = df[['AUCT_END_DT']]\n",
    "df_temp.head().T"
   ]
  },
  {
   "cell_type": "code",
   "execution_count": 53,
   "id": "prompt-somerset",
   "metadata": {},
   "outputs": [
    {
     "data": {
      "text/html": [
       "<div>\n",
       "<style scoped>\n",
       "    .dataframe tbody tr th:only-of-type {\n",
       "        vertical-align: middle;\n",
       "    }\n",
       "\n",
       "    .dataframe tbody tr th {\n",
       "        vertical-align: top;\n",
       "    }\n",
       "\n",
       "    .dataframe thead th {\n",
       "        text-align: right;\n",
       "    }\n",
       "</style>\n",
       "<table border=\"1\" class=\"dataframe\">\n",
       "  <thead>\n",
       "    <tr style=\"text-align: right;\">\n",
       "      <th></th>\n",
       "      <th>AUCT_END_DT</th>\n",
       "      <th>week</th>\n",
       "    </tr>\n",
       "  </thead>\n",
       "  <tbody>\n",
       "    <tr>\n",
       "      <th>0</th>\n",
       "      <td>2022-07-14</td>\n",
       "      <td>28</td>\n",
       "    </tr>\n",
       "    <tr>\n",
       "      <th>1</th>\n",
       "      <td>2022-06-07</td>\n",
       "      <td>23</td>\n",
       "    </tr>\n",
       "    <tr>\n",
       "      <th>2</th>\n",
       "      <td>2022-07-23</td>\n",
       "      <td>29</td>\n",
       "    </tr>\n",
       "    <tr>\n",
       "      <th>3</th>\n",
       "      <td>2022-07-28</td>\n",
       "      <td>30</td>\n",
       "    </tr>\n",
       "    <tr>\n",
       "      <th>4</th>\n",
       "      <td>2022-07-28</td>\n",
       "      <td>30</td>\n",
       "    </tr>\n",
       "    <tr>\n",
       "      <th>...</th>\n",
       "      <td>...</td>\n",
       "      <td>...</td>\n",
       "    </tr>\n",
       "    <tr>\n",
       "      <th>9995</th>\n",
       "      <td>2022-02-05</td>\n",
       "      <td>5</td>\n",
       "    </tr>\n",
       "    <tr>\n",
       "      <th>9996</th>\n",
       "      <td>2022-05-22</td>\n",
       "      <td>20</td>\n",
       "    </tr>\n",
       "    <tr>\n",
       "      <th>9997</th>\n",
       "      <td>2022-01-05</td>\n",
       "      <td>1</td>\n",
       "    </tr>\n",
       "    <tr>\n",
       "      <th>9998</th>\n",
       "      <td>2022-05-30</td>\n",
       "      <td>22</td>\n",
       "    </tr>\n",
       "    <tr>\n",
       "      <th>9999</th>\n",
       "      <td>2022-05-22</td>\n",
       "      <td>20</td>\n",
       "    </tr>\n",
       "  </tbody>\n",
       "</table>\n",
       "<p>10000 rows × 2 columns</p>\n",
       "</div>"
      ],
      "text/plain": [
       "     AUCT_END_DT  week\n",
       "0     2022-07-14    28\n",
       "1     2022-06-07    23\n",
       "2     2022-07-23    29\n",
       "3     2022-07-28    30\n",
       "4     2022-07-28    30\n",
       "...          ...   ...\n",
       "9995  2022-02-05     5\n",
       "9996  2022-05-22    20\n",
       "9997  2022-01-05     1\n",
       "9998  2022-05-30    22\n",
       "9999  2022-05-22    20\n",
       "\n",
       "[10000 rows x 2 columns]"
      ]
     },
     "execution_count": 53,
     "metadata": {},
     "output_type": "execute_result"
    }
   ],
   "source": [
    "df_temp['AUCT_END_DT'] = pd.to_datetime(df_temp['AUCT_END_DT'])\n",
    "df_temp['week'] = df_temp['AUCT_END_DT'].dt.week\n",
    "df_temp"
   ]
  },
  {
   "cell_type": "code",
   "execution_count": 54,
   "id": "adverse-conversion",
   "metadata": {},
   "outputs": [
    {
     "data": {
      "text/plain": [
       "20    1177\n",
       "29    1093\n",
       "21    1079\n",
       "28     842\n",
       "30     592\n",
       "22     549\n",
       "19     456\n",
       "1      383\n",
       "27     372\n",
       "31     366\n",
       "26     337\n",
       "14     316\n",
       "40     311\n",
       "18     299\n",
       "49     297\n",
       "36     291\n",
       "9      187\n",
       "45     181\n",
       "6      170\n",
       "44     149\n",
       "23     148\n",
       "5      142\n",
       "10     130\n",
       "24      81\n",
       "25      52\n",
       "Name: week, dtype: int64"
      ]
     },
     "execution_count": 54,
     "metadata": {},
     "output_type": "execute_result"
    }
   ],
   "source": [
    "df_temp['week'].value_counts()"
   ]
  },
  {
   "cell_type": "code",
   "execution_count": 55,
   "id": "independent-kingston",
   "metadata": {
    "scrolled": false
   },
   "outputs": [
    {
     "data": {
      "text/plain": [
       "<AxesSubplot:xlabel='count', ylabel='week'>"
      ]
     },
     "execution_count": 55,
     "metadata": {},
     "output_type": "execute_result"
    },
    {
     "data": {
      "image/png": "[encoded data removed]",
      "text/plain": [
       "<Figure size 1080x720 with 1 Axes>"
      ]
     },
     "metadata": {
      "needs_background": "light"
     },
     "output_type": "display_data"
    }
   ],
   "source": [
    "sns.countplot( y = 'week' ,data = df_temp, order = df_temp['week'].value_counts().index)"
   ]
  },
  {
   "cell_type": "markdown",
   "id": "appointed-iceland",
   "metadata": {},
   "source": [
    "Most auctions ended in **Week 20**"
   ]
  },
  {
   "cell_type": "code",
   "execution_count": 56,
   "id": "reduced-bahrain",
   "metadata": {},
   "outputs": [
    {
     "data": {
      "text/plain": [
       "Index(['RETAIL_YEAR', 'RETAIL_WEEK', 'CAL_WK', 'BYR_CNTRY_DESC', 'AUCT_END_DT',\n",
       "       'SLR_CNTRY_ID', 'CREATED_DT', 'BSNS_VRTCL_NAME', 'META_CATEG_NAME',\n",
       "       'USER_CRE_DATE', 'CATEG_LVL2_NAME', 'CATEG_LVL3_NAME',\n",
       "       'CATEG_LVL4_NAME', 'CHECKOUT_STATUS', 'START_PRICE_USD',\n",
       "       'CURNT_PRICE_USD', 'QUANTITY', 'GMB', 'FM_seg'],\n",
       "      dtype='object')"
      ]
     },
     "execution_count": 56,
     "metadata": {},
     "output_type": "execute_result"
    }
   ],
   "source": [
    "df.columns"
   ]
  },
  {
   "cell_type": "markdown",
   "id": "sublime-eligibility",
   "metadata": {},
   "source": [
    "**FINDING THE PRODUCT WITH LOWEST AUCTION TIME**"
   ]
  },
  {
   "cell_type": "code",
   "execution_count": 57,
   "id": "second-enforcement",
   "metadata": {},
   "outputs": [],
   "source": [
    "df_temp = df"
   ]
  },
  {
   "cell_type": "code",
   "execution_count": 58,
   "id": "stable-franklin",
   "metadata": {},
   "outputs": [],
   "source": [
    "def min_auct(df) : \n",
    "    df_temp = df\n",
    "    df_temp['AUCT_END_DT'] = pd.to_datetime(df_temp['AUCT_END_DT'])\n",
    "    df_temp['CREATED_DT'] = pd.to_datetime(df_temp['CREATED_DT'])\n",
    "    df_temp['auction_time'] = df_temp['AUCT_END_DT'] - df_temp['CREATED_DT']\n",
    "    df_temp = df_temp[df_temp['auction_time'] == df_temp['auction_time'].min()]\n",
    "    return df_temp"
   ]
  },
  {
   "cell_type": "code",
   "execution_count": 59,
   "id": "prospective-trailer",
   "metadata": {
    "scrolled": true
   },
   "outputs": [
    {
     "data": {
      "text/html": [
       "<div>\n",
       "<style scoped>\n",
       "    .dataframe tbody tr th:only-of-type {\n",
       "        vertical-align: middle;\n",
       "    }\n",
       "\n",
       "    .dataframe tbody tr th {\n",
       "        vertical-align: top;\n",
       "    }\n",
       "\n",
       "    .dataframe thead th {\n",
       "        text-align: right;\n",
       "    }\n",
       "</style>\n",
       "<table border=\"1\" class=\"dataframe\">\n",
       "  <thead>\n",
       "    <tr style=\"text-align: right;\">\n",
       "      <th></th>\n",
       "      <th>RETAIL_YEAR</th>\n",
       "      <th>RETAIL_WEEK</th>\n",
       "      <th>CAL_WK</th>\n",
       "      <th>BYR_CNTRY_DESC</th>\n",
       "      <th>AUCT_END_DT</th>\n",
       "      <th>SLR_CNTRY_ID</th>\n",
       "      <th>CREATED_DT</th>\n",
       "      <th>BSNS_VRTCL_NAME</th>\n",
       "      <th>META_CATEG_NAME</th>\n",
       "      <th>USER_CRE_DATE</th>\n",
       "      <th>CATEG_LVL2_NAME</th>\n",
       "      <th>CATEG_LVL3_NAME</th>\n",
       "      <th>CATEG_LVL4_NAME</th>\n",
       "      <th>CHECKOUT_STATUS</th>\n",
       "      <th>START_PRICE_USD</th>\n",
       "      <th>CURNT_PRICE_USD</th>\n",
       "      <th>QUANTITY</th>\n",
       "      <th>GMB</th>\n",
       "      <th>FM_seg</th>\n",
       "      <th>auction_time</th>\n",
       "    </tr>\n",
       "  </thead>\n",
       "  <tbody>\n",
       "    <tr>\n",
       "      <th>4580</th>\n",
       "      <td>2022</td>\n",
       "      <td>19</td>\n",
       "      <td>19</td>\n",
       "      <td>United States</td>\n",
       "      <td>2022-01-06</td>\n",
       "      <td>1.0</td>\n",
       "      <td>2022-12-05</td>\n",
       "      <td>Lifestyle</td>\n",
       "      <td>Sporting Goods</td>\n",
       "      <td>14-03-2003 17:16</td>\n",
       "      <td>Outdoor Sports</td>\n",
       "      <td>Air Guns &amp; Slingshots</td>\n",
       "      <td>BBs &amp; Pellets</td>\n",
       "      <td>2.0</td>\n",
       "      <td>8.85</td>\n",
       "      <td>8.85</td>\n",
       "      <td>1.0</td>\n",
       "      <td>8.85</td>\n",
       "      <td>Frequent High Spenders</td>\n",
       "      <td>-333 days</td>\n",
       "    </tr>\n",
       "  </tbody>\n",
       "</table>\n",
       "</div>"
      ],
      "text/plain": [
       "      RETAIL_YEAR  RETAIL_WEEK  CAL_WK BYR_CNTRY_DESC AUCT_END_DT  \\\n",
       "4580         2022           19      19  United States  2022-01-06   \n",
       "\n",
       "      SLR_CNTRY_ID CREATED_DT BSNS_VRTCL_NAME META_CATEG_NAME  \\\n",
       "4580           1.0 2022-12-05       Lifestyle  Sporting Goods   \n",
       "\n",
       "         USER_CRE_DATE CATEG_LVL2_NAME        CATEG_LVL3_NAME CATEG_LVL4_NAME  \\\n",
       "4580  14-03-2003 17:16  Outdoor Sports  Air Guns & Slingshots   BBs & Pellets   \n",
       "\n",
       "      CHECKOUT_STATUS  START_PRICE_USD  CURNT_PRICE_USD  QUANTITY   GMB  \\\n",
       "4580              2.0             8.85             8.85       1.0  8.85   \n",
       "\n",
       "                      FM_seg auction_time  \n",
       "4580  Frequent High Spenders    -333 days  "
      ]
     },
     "execution_count": 59,
     "metadata": {},
     "output_type": "execute_result"
    }
   ],
   "source": [
    "auct_min = min_auct(df_temp)\n",
    "auct_min"
   ]
  },
  {
   "cell_type": "code",
   "execution_count": 60,
   "id": "aggregate-customer",
   "metadata": {},
   "outputs": [
    {
     "data": {
      "text/plain": [
       "Sporting Goods    1\n",
       "Name: META_CATEG_NAME, dtype: int64"
      ]
     },
     "execution_count": 60,
     "metadata": {},
     "output_type": "execute_result"
    }
   ],
   "source": [
    "auct_min['META_CATEG_NAME'].value_counts()"
   ]
  },
  {
   "cell_type": "markdown",
   "id": "healthy-tract",
   "metadata": {},
   "source": [
    "IT CAN BE NOTICED IN SOME ROWS **ACTION END DATE < AUCTION CREATED DATE**, REMOVE SUCH ROWS"
   ]
  },
  {
   "cell_type": "code",
   "execution_count": 61,
   "id": "muslim-turtle",
   "metadata": {},
   "outputs": [
    {
     "data": {
      "text/plain": [
       "(10000, 20)"
      ]
     },
     "execution_count": 61,
     "metadata": {},
     "output_type": "execute_result"
    }
   ],
   "source": [
    "df.shape"
   ]
  },
  {
   "cell_type": "code",
   "execution_count": 62,
   "id": "wooden-hundred",
   "metadata": {},
   "outputs": [
    {
     "data": {
      "text/plain": [
       "eBay Motors                       248\n",
       "Home & Garden                     143\n",
       "Clothing, Shoes & Accessories     102\n",
       "Business & Industrial              80\n",
       "Computers/Tablets & Networking     76\n",
       "Consumer Electronics               72\n",
       "Sporting Goods                     63\n",
       "Collectibles                       55\n",
       "Video Games & Consoles             47\n",
       "Sports Mem, Cards & Fan Shop       47\n",
       "Coins & Paper Money                42\n",
       "Jewelry & Watches                  41\n",
       "Cell Phones & Accessories          39\n",
       "Health & Beauty                    32\n",
       "Toys & Hobbies                     31\n",
       "Musical Instruments & Gear         20\n",
       "Cameras & Photo                    15\n",
       "Music                              14\n",
       "Antiques                           13\n",
       "Pottery & Glass                     9\n",
       "Art                                 9\n",
       "Crafts                              5\n",
       "Books & Magazines                   4\n",
       "Entertainment Memorabilia           4\n",
       "Pet Supplies                        4\n",
       "Specialty Services                  2\n",
       "Baby                                2\n",
       "Stamps                              1\n",
       "Name: META_CATEG_NAME, dtype: int64"
      ]
     },
     "execution_count": 62,
     "metadata": {},
     "output_type": "execute_result"
    }
   ],
   "source": [
    "cat_high_GMB =df[df['GMB'] == df['GMB'].max()]\n",
    "cat_high_GMB = cat_high_GMB['META_CATEG_NAME']\n",
    "cat_high_GMB.value_counts()"
   ]
  },
  {
   "cell_type": "code",
   "execution_count": 64,
   "id": "congressional-civilian",
   "metadata": {},
   "outputs": [
    {
     "data": {
      "text/plain": [
       "Text(0.5, 1.0, 'GMB vs Category')"
      ]
     },
     "execution_count": 64,
     "metadata": {},
     "output_type": "execute_result"
    },
    {
     "data": {
      "image/png": "[encoded data removed]",
      "text/plain": [
       "<Figure size 864x1080 with 1 Axes>"
      ]
     },
     "metadata": {
      "needs_background": "light"
     },
     "output_type": "display_data"
    }
   ],
   "source": [
    "plt.figure(figsize=(12, 15))\n",
    "sns.barplot(y=df['META_CATEG_NAME'], x=df['GMB'])\n",
    "plt.title(\"GMB vs Category\")"
   ]
  },
  {
   "cell_type": "markdown",
   "id": "breathing-alias",
   "metadata": {},
   "source": [
    "**Antiques** has  highest GMB(gross merchandise bought)."
   ]
  },
  {
   "cell_type": "markdown",
   "id": "crazy-arizona",
   "metadata": {},
   "source": [
    "## 5. Data Preparation"
   ]
  },
  {
   "cell_type": "markdown",
   "id": "mysterious-outdoors",
   "metadata": {},
   "source": [
    "### 5.1 Label Encoding"
   ]
  },
  {
   "cell_type": "code",
   "execution_count": 65,
   "id": "supported-annual",
   "metadata": {},
   "outputs": [],
   "source": [
    "def label_encoding(col):\n",
    "    label_encoder = LabelEncoder()\n",
    "    df[col]= label_encoder.fit_transform(df[col])\n",
    "    df[col].unique()"
   ]
  },
  {
   "cell_type": "code",
   "execution_count": 66,
   "id": "african-memory",
   "metadata": {},
   "outputs": [],
   "source": [
    "for i in cat_col:\n",
    "    label_encoding(i)"
   ]
  },
  {
   "cell_type": "code",
   "execution_count": 67,
   "id": "genetic-charity",
   "metadata": {},
   "outputs": [
    {
     "data": {
      "text/html": [
       "<div>\n",
       "<style scoped>\n",
       "    .dataframe tbody tr th:only-of-type {\n",
       "        vertical-align: middle;\n",
       "    }\n",
       "\n",
       "    .dataframe tbody tr th {\n",
       "        vertical-align: top;\n",
       "    }\n",
       "\n",
       "    .dataframe thead th {\n",
       "        text-align: right;\n",
       "    }\n",
       "</style>\n",
       "<table border=\"1\" class=\"dataframe\">\n",
       "  <thead>\n",
       "    <tr style=\"text-align: right;\">\n",
       "      <th></th>\n",
       "      <th>RETAIL_YEAR</th>\n",
       "      <th>RETAIL_WEEK</th>\n",
       "      <th>CAL_WK</th>\n",
       "      <th>BYR_CNTRY_DESC</th>\n",
       "      <th>AUCT_END_DT</th>\n",
       "      <th>SLR_CNTRY_ID</th>\n",
       "      <th>CREATED_DT</th>\n",
       "      <th>BSNS_VRTCL_NAME</th>\n",
       "      <th>META_CATEG_NAME</th>\n",
       "      <th>USER_CRE_DATE</th>\n",
       "      <th>CATEG_LVL2_NAME</th>\n",
       "      <th>CATEG_LVL3_NAME</th>\n",
       "      <th>CATEG_LVL4_NAME</th>\n",
       "      <th>CHECKOUT_STATUS</th>\n",
       "      <th>START_PRICE_USD</th>\n",
       "      <th>CURNT_PRICE_USD</th>\n",
       "      <th>QUANTITY</th>\n",
       "      <th>GMB</th>\n",
       "      <th>FM_seg</th>\n",
       "      <th>auction_time</th>\n",
       "    </tr>\n",
       "  </thead>\n",
       "  <tbody>\n",
       "    <tr>\n",
       "      <th>0</th>\n",
       "      <td>2022</td>\n",
       "      <td>18</td>\n",
       "      <td>18</td>\n",
       "      <td>35</td>\n",
       "      <td>59</td>\n",
       "      <td>1.0</td>\n",
       "      <td>4</td>\n",
       "      <td>6</td>\n",
       "      <td>3</td>\n",
       "      <td>314</td>\n",
       "      <td>34</td>\n",
       "      <td>125</td>\n",
       "      <td>180</td>\n",
       "      <td>2.0</td>\n",
       "      <td>3.87</td>\n",
       "      <td>3.87</td>\n",
       "      <td>1.0</td>\n",
       "      <td>3.87</td>\n",
       "      <td>2</td>\n",
       "      <td>70 days</td>\n",
       "    </tr>\n",
       "    <tr>\n",
       "      <th>1</th>\n",
       "      <td>2022</td>\n",
       "      <td>18</td>\n",
       "      <td>18</td>\n",
       "      <td>35</td>\n",
       "      <td>36</td>\n",
       "      <td>1.0</td>\n",
       "      <td>4</td>\n",
       "      <td>6</td>\n",
       "      <td>3</td>\n",
       "      <td>314</td>\n",
       "      <td>34</td>\n",
       "      <td>125</td>\n",
       "      <td>180</td>\n",
       "      <td>2.0</td>\n",
       "      <td>3.98</td>\n",
       "      <td>3.98</td>\n",
       "      <td>1.0</td>\n",
       "      <td>3.98</td>\n",
       "      <td>2</td>\n",
       "      <td>33 days</td>\n",
       "    </tr>\n",
       "    <tr>\n",
       "      <th>2</th>\n",
       "      <td>2022</td>\n",
       "      <td>18</td>\n",
       "      <td>18</td>\n",
       "      <td>35</td>\n",
       "      <td>68</td>\n",
       "      <td>1.0</td>\n",
       "      <td>4</td>\n",
       "      <td>6</td>\n",
       "      <td>3</td>\n",
       "      <td>314</td>\n",
       "      <td>34</td>\n",
       "      <td>125</td>\n",
       "      <td>180</td>\n",
       "      <td>2.0</td>\n",
       "      <td>4.08</td>\n",
       "      <td>4.08</td>\n",
       "      <td>1.0</td>\n",
       "      <td>3.22</td>\n",
       "      <td>2</td>\n",
       "      <td>79 days</td>\n",
       "    </tr>\n",
       "    <tr>\n",
       "      <th>3</th>\n",
       "      <td>2022</td>\n",
       "      <td>18</td>\n",
       "      <td>18</td>\n",
       "      <td>35</td>\n",
       "      <td>73</td>\n",
       "      <td>1.0</td>\n",
       "      <td>4</td>\n",
       "      <td>6</td>\n",
       "      <td>3</td>\n",
       "      <td>314</td>\n",
       "      <td>34</td>\n",
       "      <td>125</td>\n",
       "      <td>180</td>\n",
       "      <td>2.0</td>\n",
       "      <td>3.57</td>\n",
       "      <td>3.57</td>\n",
       "      <td>1.0</td>\n",
       "      <td>2.82</td>\n",
       "      <td>2</td>\n",
       "      <td>84 days</td>\n",
       "    </tr>\n",
       "    <tr>\n",
       "      <th>4</th>\n",
       "      <td>2022</td>\n",
       "      <td>18</td>\n",
       "      <td>18</td>\n",
       "      <td>35</td>\n",
       "      <td>73</td>\n",
       "      <td>1.0</td>\n",
       "      <td>4</td>\n",
       "      <td>6</td>\n",
       "      <td>3</td>\n",
       "      <td>314</td>\n",
       "      <td>34</td>\n",
       "      <td>125</td>\n",
       "      <td>180</td>\n",
       "      <td>2.0</td>\n",
       "      <td>4.08</td>\n",
       "      <td>4.08</td>\n",
       "      <td>1.0</td>\n",
       "      <td>3.22</td>\n",
       "      <td>2</td>\n",
       "      <td>84 days</td>\n",
       "    </tr>\n",
       "  </tbody>\n",
       "</table>\n",
       "</div>"
      ],
      "text/plain": [
       "   RETAIL_YEAR  RETAIL_WEEK  CAL_WK  BYR_CNTRY_DESC  AUCT_END_DT  \\\n",
       "0         2022           18      18              35           59   \n",
       "1         2022           18      18              35           36   \n",
       "2         2022           18      18              35           68   \n",
       "3         2022           18      18              35           73   \n",
       "4         2022           18      18              35           73   \n",
       "\n",
       "   SLR_CNTRY_ID  CREATED_DT  BSNS_VRTCL_NAME  META_CATEG_NAME  USER_CRE_DATE  \\\n",
       "0           1.0           4                6                3            314   \n",
       "1           1.0           4                6                3            314   \n",
       "2           1.0           4                6                3            314   \n",
       "3           1.0           4                6                3            314   \n",
       "4           1.0           4                6                3            314   \n",
       "\n",
       "   CATEG_LVL2_NAME  CATEG_LVL3_NAME  CATEG_LVL4_NAME  CHECKOUT_STATUS  \\\n",
       "0               34              125              180              2.0   \n",
       "1               34              125              180              2.0   \n",
       "2               34              125              180              2.0   \n",
       "3               34              125              180              2.0   \n",
       "4               34              125              180              2.0   \n",
       "\n",
       "   START_PRICE_USD  CURNT_PRICE_USD  QUANTITY   GMB  FM_seg auction_time  \n",
       "0             3.87             3.87       1.0  3.87       2      70 days  \n",
       "1             3.98             3.98       1.0  3.98       2      33 days  \n",
       "2             4.08             4.08       1.0  3.22       2      79 days  \n",
       "3             3.57             3.57       1.0  2.82       2      84 days  \n",
       "4             4.08             4.08       1.0  3.22       2      84 days  "
      ]
     },
     "execution_count": 67,
     "metadata": {},
     "output_type": "execute_result"
    }
   ],
   "source": [
    "df.head()"
   ]
  }
 ],
 "metadata": {
  "kernelspec": {
   "display_name": "Python 3",
   "language": "python",
   "name": "python3"
  },
  "language_info": {
   "codemirror_mode": {
    "name": "ipython",
    "version": 3
   },
   "file_extension": ".py",
   "mimetype": "text/x-python",
   "name": "python",
   "nbconvert_exporter": "python",
   "pygments_lexer": "ipython3",
   "version": "3.8.8"
  }
 },
 "nbformat": 4,
 "nbformat_minor": 5
}
